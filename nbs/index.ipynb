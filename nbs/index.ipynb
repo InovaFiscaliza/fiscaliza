{
 "cells": [
  {
   "cell_type": "markdown",
   "metadata": {},
   "source": [
    "# API para relato no Fiscaliza da Anatel"
   ]
  },
  {
   "cell_type": "code",
   "execution_count": 1,
   "metadata": {},
   "outputs": [
    {
     "data": {
      "text/plain": [
       "True"
      ]
     },
     "execution_count": 1,
     "metadata": {},
     "output_type": "execute_result"
    }
   ],
   "source": [
    "import os\n",
    "import random\n",
    "from random import randint\n",
    "from dotenv import load_dotenv\n",
    "from fiscaliza.main import Fiscaliza\n",
    "from fiscaliza.constants import MUNICIPIOS, SERVICOS\n",
    "from fiscaliza.attrs import FIELDS\n",
    "load_dotenv(override=True)"
   ]
  },
  {
   "cell_type": "markdown",
   "metadata": {},
   "source": [
    "## Autenticação e Conexão com o servidor do Redmine\n",
    "A classe `Fiscaliza` é somente para efetuar a conexão e autenticação com o servidor do Redmine. "
   ]
  },
  {
   "cell_type": "code",
   "execution_count": 7,
   "metadata": {},
   "outputs": [],
   "source": [
    "issue_id = \"124182\"\n",
    "fiscaliza = Fiscaliza(os.environ[\"USERNAME\"], os.environ[\"PASSWORD\"], teste=True)\n",
    "issue = fiscaliza.get_issue(issue_id)"
   ]
  },
  {
   "cell_type": "markdown",
   "metadata": {},
   "source": [
    "## Conexão com dada inspeção \n",
    "O método `get_issue` instancia e retorna um objeto do tipo `Issue`, este que encapsula a funcionalidade principal de resgate de informações, validação e formatação de informações e atualização de inspeção.\n",
    "O mesmo objeto pode ser instanciado diretamente passando o `client` do objeto `Fiscaliza` após autenticado e o `id` da inspeção.\n",
    "```\n",
    "issue = Issue(fiscaliza.client, issue_id)\n",
    "```"
   ]
  },
  {
   "cell_type": "markdown",
   "metadata": {},
   "source": [
    "## Informações da Inspeção\n",
    "Todas as informações principais da Inspeção estão disponíveis através do atributo `attrs`"
   ]
  },
  {
   "cell_type": "code",
   "execution_count": 8,
   "metadata": {},
   "outputs": [
    {
     "data": {
      "text/plain": [
       "{'acao': {'type': 'acao_de_inspecao',\n",
       "  'status': 'Em andamento',\n",
       "  'name': 'ACAO_GR08_2024_0014',\n",
       "  'description': '[PMEC 2024 Etapa 2] Monitorar canais e faixas de frequências relacionados às aplicações críticas (como, por exemplo, radionavegação e radiocomunicação aeronáutica e canais de emergência) na forma a ser estabelecida no Plano de Ação de Fiscalização.\\r\\n'},\n",
       " 'agrupamento': '',\n",
       " 'allowed_statuses': '',\n",
       " 'anexos': ['https://sistemasnethm/fiscaliza/attachments/download/9190/Info.json',\n",
       "  'https://sistemasnethm/fiscaliza/attachments/download/9191/Info.json'],\n",
       " 'ano_de_execucao': 2024,\n",
       " 'app_fiscaliza': 0,\n",
       " 'assigned_to': 'Eric Magalhães Delgado',\n",
       " 'atualizacao': 'Atualizada por Ronaldo da Silva Alves Batista em 25/07/2024 às 05:05:36',\n",
       " 'author': 'Eric Magalhães Delgado',\n",
       " 'changesets': '',\n",
       " 'children': '',\n",
       " 'classe_da_inspecao': 'Técnica',\n",
       " 'closed_on': '',\n",
       " 'coordenacao_responsavel': 'FI2',\n",
       " 'created_on': '2024-04-18T12:38:03Z',\n",
       " 'data_de_inicio_efetivo': '2024-07-25',\n",
       " 'description': '[PMEC 2024 Etapa 2] Monitorar canais e faixas de frequências relacionados às aplicações críticas (como, por exemplo, radionavegação e radiocomunicação aeronáutica e canais de emergência) na forma a ser estabelecida no Plano de Ação de Fiscalização.\\r\\n',\n",
       " 'done_ratio': 0,\n",
       " 'due_date': '2024-05-30',\n",
       " 'entidade_da_inspecao': [],\n",
       " 'estimated_hours': '',\n",
       " 'fiscais': ['Eric Magalhães Delgado', 'Ronaldo da Silva Alves Batista'],\n",
       " 'fiscal_responsavel': 'Eric Magalhães Delgado',\n",
       " 'horas_de_conclusao': 2,\n",
       " 'horas_de_deslocamento': 3,\n",
       " 'horas_de_execucao': 29,\n",
       " 'horas_de_preparacao': 1,\n",
       " 'id': 124182,\n",
       " 'irregularidade': [],\n",
       " 'is_private': False,\n",
       " 'membros': ['Gilmar Ferreira do Nascimento',\n",
       "  'Luis Fernando Camelier de Queiroz',\n",
       "  'Michel Kulhavy Cerqueira',\n",
       "  'Iulo de Araújo Lima Lobo',\n",
       "  'Carlos Fernando Muniz Santos',\n",
       "  'Isabel Cristina Cruz Soares e Souza',\n",
       "  'Alessandro Vasconcelos Fernandes',\n",
       "  'Anecy Oliveira de Freitas',\n",
       "  'Wilton Machado de Oliveira',\n",
       "  'Ilva Perla Monteiro Ferreira',\n",
       "  'Lin Yu Wan',\n",
       "  'Alexnaldo Cerqueira da Silva',\n",
       "  'Jorgean Ferreira Leal',\n",
       "  'José Mauricio Leite Araújo',\n",
       "  'Arildo Oliva Franca Filho',\n",
       "  'Leonardo Lago Araújo',\n",
       "  'Brasilio Rios Leite',\n",
       "  'Fiscal UD',\n",
       "  'José Ivan Gomes',\n",
       "  'Jaqueline Cesario da Silva',\n",
       "  'Eric Magalhães Delgado',\n",
       "  'Ronaldo da Silva Alves Batista'],\n",
       " 'no_fiscaliza_issue': {'numero': '124182',\n",
       "  'link_acesso': 'https://sistemasnethm/fiscaliza/issues/124182'},\n",
       " 'no_pcdp': '',\n",
       " 'no_sav': 'Teste de Quebra\\n de linha',\n",
       " 'no_sei_processo_fiscalizacao': \"{'numero': '53554.000005/2024-18', 'link_acesso': 'https://seihm.anatel.gov.br/sei/controlador.php?acao=procedimento_trabalhar&id_procedimento=1982134'}\",\n",
       " 'numero_do_pai': 123456,\n",
       " 'observacao_tecnica_amostral': 'Simulação com o HTZ',\n",
       " 'pai_instaurado_pela_anatel': 'Sim',\n",
       " 'precisa_reservar_instrumentos': 0,\n",
       " 'priority': 'Normal',\n",
       " 'procedimentos': ['Análise/coleta de Dados'],\n",
       " 'project': 'GR08',\n",
       " 'servicos_da_inspecao': ['099 - RESTRITO - SERVIÇO DE RADIAÇÃO RESTRITA',\n",
       "  '032 - COLETIVO - RADIOENLACES ASSOCIADOS AO SERVIÇO REDE TRANSPORTE TELECOMUNICAÇÃO'],\n",
       " 'situacao_constatada': 'Irregular',\n",
       " 'spent_hours': 0.0,\n",
       " 'start_date': '2024-03-01',\n",
       " 'status': 'Relatando',\n",
       " 'subject': 'INSP_GR08_2024_0147',\n",
       " 'subtema': ['Radiomonitoração Terrestre'],\n",
       " 'tema': ['Uso do Espectro'],\n",
       " 'time_entries': '',\n",
       " 'tipo_de_inspecao': 'Outorga - Aspectos não Técnicos',\n",
       " 'total_de_horas': 35.0,\n",
       " 'total_estimated_hours': '',\n",
       " 'total_spent_hours': 0.0,\n",
       " 'tracker': 'Atividade de Inspeção',\n",
       " 'ufmunicipio': ['MG/Bocaina de Minas', 'AL/União dos Palmares'],\n",
       " 'updated_on': '2024-07-25T08:05:36Z',\n",
       " 'utilizou_algum_instrumento': 0,\n",
       " 'utilizou_tecnicas_amostrais': 'Usou técnicas amostrais',\n",
       " 'watchers': ''}"
      ]
     },
     "execution_count": 8,
     "metadata": {},
     "output_type": "execute_result"
    }
   ],
   "source": [
    "# |filter_stream membros\n",
    "issue.attrs"
   ]
  },
  {
   "cell_type": "markdown",
   "metadata": {},
   "source": [
    "O atributo acima retorna um dicionário com atributos atuais da Inspeção no Fiscaliza. Existem campos editáveis através da API ou da interface Web e outros meramente informativos, além de alguns campos presentes no `Redmine` mas sem uso na instância Fiscaliza da Anatel. Um exemplo desses é o atributo `children`, sempre vazio."
   ]
  },
  {
   "cell_type": "markdown",
   "metadata": {},
   "source": [
    "## Campos editáveis\n",
    "Os dados que são editáveis, tanto pela API quanto pela interface web aparecem em `minúsculo` no dicionário. Para estes dados temos um outro método mais informativo:"
   ]
  },
  {
   "cell_type": "code",
   "execution_count": 4,
   "metadata": {},
   "outputs": [
    {
     "data": {
      "text/plain": [
       "{'status': (value: Rascunho),\n",
       " 'description': (value: [PMEC 2024 Etapa 2] Monitorar canais e faixas de frequências relacionados às aplicações críticas (como, por exemplo, radionavegação e radiocomunicação aeronáutica e canais de emergência) na forma a ser estabelecida no Plano de Ação de Fiscalização.\n",
       " ) | <mandatory>,\n",
       " 'start_date': (value: 2024-03-01) | <mandatory>,\n",
       " 'due_date': (value: 2024-11-30) | <mandatory>,\n",
       " 'tipo_de_inspecao': (value: ) | <mandatory>, <options>, conditional,\n",
       " 'fiscal_responsavel': (value: ) | <mandatory>, <options>,\n",
       " 'fiscais': (value: []) | <mandatory>, <multiple>, <options>,\n",
       " 'entidade_da_inspecao': (value: []), <multiple>,\n",
       " 'ufmunicipio': (value: []) | <mandatory>, <multiple>, <options>,\n",
       " 'servicos_da_inspecao': (value: []) | <mandatory>, <multiple>, <options>,\n",
       " 'procedimentos': (value: []) | <mandatory>, <multiple>, <options>, conditional,\n",
       " 'horas_de_preparacao': (value: 0) | <mandatory>,\n",
       " 'horas_de_deslocamento': (value: 0) | <mandatory>,\n",
       " 'horas_de_execucao': (value: 0) | <mandatory>,\n",
       " 'horas_de_conclusao': (value: 0) | <mandatory>,\n",
       " 'no_sav': (value: ),\n",
       " 'no_pcdp': (value: ),\n",
       " 'coordenacao_responsavel': (value: FI2), <options>,\n",
       " 'agrupamento': (value: ),\n",
       " 'no_sei_processo_fiscalizacao': ({'numero': '53554.000005/2024-18', 'link_acesso': 'https://seihm.anatel.gov.br/sei/controlador.php?acao=procedimento_trabalhar&id_procedimento=1982134'}),\n",
       " 'precisa_reservar_instrumentos': (value: ) | <mandatory>, <options>, conditional,\n",
       " 'utilizou_algum_instrumento': (value: ) | <mandatory>, <options>, conditional,\n",
       " 'utilizou_tecnicas_amostrais': (value: ) | <mandatory>, <options>,\n",
       " 'observacao_tecnica_amostral': (value: ) | <mandatory>}"
      ]
     },
     "execution_count": 4,
     "metadata": {},
     "output_type": "execute_result"
    }
   ],
   "source": [
    "issue.editable_fields"
   ]
  },
  {
   "cell_type": "markdown",
   "metadata": {},
   "source": [
    "Nesse caso as chaves são os nomes dos campos e os valores são os objetos que modelam o campo. Ao mostrar ou imprimir o dicionário, como mostrado acima, é impresso o valor atual do campo entre parênteses.\n",
    "```\n",
    "'tipo_de_inspecao': (value: Uso do Espectro - Não Outorgado) | <mandatory>, <options>, conditional\n",
    "```\n",
    "Separado pela barra vertical são mostrados alguns atributos do campo:\n",
    "\n",
    "  - `<mandatory>` Atributo booleano indicando se o campo é obrigatório;\n",
    "  - `<multiple>` Atributo booleano. `False`: Campo de valor único. `True` Campo aceita mais de um valor e por conseguinte deve ser fornecido uma lista em vez de um valor atômico ( `int`, `float`, `str` );\n",
    "  - `<options>` Atributo do tipo lista. Quando presente sinaliza que o campo é restrito e só aceita  valores pré-definidos;\n",
    "  - `conditional` Esse não é um atributo, somente um sinalizador indicando que o campo é condicional e para dado valor preenchido neste campo, ficam disponíveis outros campos, estes podem ser obrigatórios e inclusive condicionais."
   ]
  },
  {
   "cell_type": "markdown",
   "metadata": {},
   "source": [
    "O valor em si do campo é guardado no atributo `value`, acessado através da notação de ponto "
   ]
  },
  {
   "cell_type": "code",
   "execution_count": 9,
   "metadata": {},
   "outputs": [
    {
     "data": {
      "text/plain": [
       "'Outorga - Aspectos não Técnicos'"
      ]
     },
     "execution_count": 9,
     "metadata": {},
     "output_type": "execute_result"
    }
   ],
   "source": [
    "issue.editable_fields['tipo_de_inspecao'].value"
   ]
  },
  {
   "cell_type": "markdown",
   "metadata": {},
   "source": [
    "### Campos Obrigatórios e Condicionais"
   ]
  },
  {
   "cell_type": "markdown",
   "metadata": {},
   "source": [
    "Os dois métodos a seguir filtram, dentre os campos editáveis, os campos obrigatório e condicionais:"
   ]
  },
  {
   "cell_type": "code",
   "execution_count": 10,
   "metadata": {},
   "outputs": [
    {
     "data": {
      "text/plain": [
       "{'description': (value: [PMEC 2024 Etapa 2] Monitorar canais e faixas de frequências relacionados às aplicações críticas (como, por exemplo, radionavegação e radiocomunicação aeronáutica e canais de emergência) na forma a ser estabelecida no Plano de Ação de Fiscalização.\n",
       " ) | <mandatory>,\n",
       " 'start_date': (value: 2024-03-01) | <mandatory>,\n",
       " 'due_date': (value: 2024-05-30) | <mandatory>,\n",
       " 'tipo_de_inspecao': (value: Outorga - Aspectos não Técnicos) | <mandatory>, <options>, conditional,\n",
       " 'fiscal_responsavel': (value: Eric Magalhães Delgado) | <mandatory>, <options>,\n",
       " 'fiscais': (value: ['Eric Magalhães Delgado', 'Ronaldo da Silva Alves Batista']) | <mandatory>, <multiple>, <options>,\n",
       " 'ufmunicipio': (value: ['MG/Bocaina de Minas', 'AL/União dos Palmares']) | <mandatory>, <multiple>, <options>,\n",
       " 'servicos_da_inspecao': (value: ['099 - RESTRITO - SERVIÇO DE RADIAÇÃO RESTRITA', '032 - COLETIVO - RADIOENLACES ASSOCIADOS AO SERVIÇO REDE TRANSPORTE TELECOMUNICAÇÃO']) | <mandatory>, <multiple>, <options>,\n",
       " 'situacao_constatada': (value: Irregular) | <mandatory>, <options>,\n",
       " 'procedimentos': (value: ['Análise/coleta de Dados']) | <mandatory>, <multiple>, <options>, conditional,\n",
       " 'horas_de_preparacao': (value: 1) | <mandatory>,\n",
       " 'horas_de_deslocamento': (value: 3) | <mandatory>,\n",
       " 'horas_de_execucao': (value: 29) | <mandatory>,\n",
       " 'horas_de_conclusao': (value: 2) | <mandatory>,\n",
       " 'pai_instaurado_pela_anatel': (value: Sim) | <mandatory>, <options>, conditional,\n",
       " 'precisa_reservar_instrumentos': (value: 0) | <mandatory>, <options>, conditional,\n",
       " 'utilizou_algum_instrumento': (value: 0) | <mandatory>, <options>, conditional,\n",
       " 'utilizou_tecnicas_amostrais': (value: Usou técnicas amostrais) | <mandatory>, <options>,\n",
       " 'observacao_tecnica_amostral': (value: Simulação com o HTZ) | <mandatory>}"
      ]
     },
     "execution_count": 10,
     "metadata": {},
     "output_type": "execute_result"
    }
   ],
   "source": [
    "issue.mandatory_fields()"
   ]
  },
  {
   "cell_type": "code",
   "execution_count": 11,
   "metadata": {},
   "outputs": [
    {
     "data": {
      "text/plain": [
       "{'tipo_de_inspecao': (value: Outorga - Aspectos não Técnicos) | <mandatory>, <options>, conditional,\n",
       " 'procedimentos': (value: ['Análise/coleta de Dados']) | <mandatory>, <multiple>, <options>, conditional,\n",
       " 'pai_instaurado_pela_anatel': (value: Sim) | <mandatory>, <options>, conditional,\n",
       " 'precisa_reservar_instrumentos': (value: 0) | <mandatory>, <options>, conditional,\n",
       " 'utilizou_algum_instrumento': (value: 0) | <mandatory>, <options>, conditional}"
      ]
     },
     "execution_count": 11,
     "metadata": {},
     "output_type": "execute_result"
    }
   ],
   "source": [
    "issue.conditional_fields()"
   ]
  },
  {
   "cell_type": "markdown",
   "metadata": {},
   "source": [
    "> O conjunto de valores para os campos com opções pré-definidas estão relacionados no atributo `.options`"
   ]
  },
  {
   "cell_type": "code",
   "execution_count": 12,
   "metadata": {},
   "outputs": [
    {
     "data": {
      "text/plain": [
       "['',\n",
       " 'Bloqueio Administrativo',\n",
       " 'Certificação',\n",
       " 'Medição de CEMRF (RNI)',\n",
       " 'Outorga - Aspectos não Técnicos',\n",
       " 'Outorga - Aspectos Técnicos',\n",
       " 'Uso do Espectro - Interferência',\n",
       " 'Uso do Espectro - Monitoração',\n",
       " 'Uso do Espectro - Não Outorgado']"
      ]
     },
     "execution_count": 12,
     "metadata": {},
     "output_type": "execute_result"
    }
   ],
   "source": [
    "issue.editable_fields['tipo_de_inspecao'].options"
   ]
  },
  {
   "cell_type": "code",
   "execution_count": 13,
   "metadata": {},
   "outputs": [
    {
     "data": {
      "text/plain": [
       "['Nenhum',\n",
       " 'Lacração',\n",
       " 'Apreensão',\n",
       " 'Interrupção',\n",
       " 'Não Cadastrado',\n",
       " 'Notificado',\n",
       " 'A Notificar',\n",
       " 'Liberação/Desinterrupção',\n",
       " 'Orientação ao Usuário',\n",
       " 'Comunicado',\n",
       " 'Deslacrado',\n",
       " 'Vistoriado',\n",
       " 'Emissão Termo Violação de Lacre',\n",
       " 'Apoio a busca e apreensão',\n",
       " 'Investigação/Pesquisa',\n",
       " 'Não Lacrado - Impedimento',\n",
       " 'Não Lacrado - Amparo Judicial',\n",
       " 'Não Lacrado - Responsável Ausente',\n",
       " 'Não Lacrado - Local Fechado',\n",
       " 'Constatação Violação Lacre/Relacrado',\n",
       " 'Constatação Violação Lacre/Impedimento',\n",
       " 'Notícia Crime',\n",
       " 'Monitorado alterado',\n",
       " 'Constatação Encerramento - Informe',\n",
       " 'Levantamento de Dados',\n",
       " 'Análise/coleta de Dados',\n",
       " 'Monitorado',\n",
       " 'Não Lacrado - Desativado',\n",
       " 'Devolução de Produto(s)',\n",
       " 'Outros']"
      ]
     },
     "execution_count": 13,
     "metadata": {},
     "output_type": "execute_result"
    }
   ],
   "source": [
    "issue.editable_fields['procedimentos'].options"
   ]
  },
  {
   "cell_type": "markdown",
   "metadata": {},
   "source": [
    "## Atualizando os campos editáveis da Inspeção\n",
    "Dada a existência de campos condicionais, para obtermos todos os campos editáveis para dado tipo de inspeção, é preciso fornecer um dicionário de dados para que os campos sejam atualizados de acordo com os valores fornecidos para os campos condicionais."
   ]
  },
  {
   "cell_type": "code",
   "execution_count": 14,
   "metadata": {},
   "outputs": [],
   "source": [
    "dados = {\n",
    "    \"tipo_de_inspecao\": \"Certificação\",\n",
    "    \"precisa_reservar_instrumentos\": \"0\",\n",
    "    \"utilizou_algum_instrumento\": \"0\",\n",
    "    \"procedimentos\": \"Lacração\",\n",
    "}"
   ]
  },
  {
   "cell_type": "markdown",
   "metadata": {},
   "source": [
    "A atualização dos campos é feita passando o dicionário para o método `update_fields`."
   ]
  },
  {
   "cell_type": "code",
   "execution_count": 15,
   "metadata": {},
   "outputs": [],
   "source": [
    "issue.update_fields(dados)"
   ]
  },
  {
   "cell_type": "markdown",
   "metadata": {},
   "source": [
    "Depois de atualizado os campos com o método acima, checamos novamente o atributo `editable_fields`"
   ]
  },
  {
   "cell_type": "code",
   "execution_count": 16,
   "metadata": {},
   "outputs": [
    {
     "data": {
      "text/plain": [
       "{'status': (value: Relatando),\n",
       " 'description': (value: [PMEC 2024 Etapa 2] Monitorar canais e faixas de frequências relacionados às aplicações críticas (como, por exemplo, radionavegação e radiocomunicação aeronáutica e canais de emergência) na forma a ser estabelecida no Plano de Ação de Fiscalização.\n",
       " ) | <mandatory>,\n",
       " 'start_date': (value: 2024-03-01) | <mandatory>,\n",
       " 'due_date': (value: 2024-05-30) | <mandatory>,\n",
       " 'tipo_de_inspecao': (value: Certificação) | <mandatory>, <options>, conditional,\n",
       " 'fiscal_responsavel': (value: Eric Magalhães Delgado) | <mandatory>, <options>,\n",
       " 'fiscais': (value: ['Eric Magalhães Delgado', 'Ronaldo da Silva Alves Batista']) | <mandatory>, <multiple>, <options>,\n",
       " 'entidade_da_inspecao': (value: []), <multiple>,\n",
       " 'ufmunicipio': (value: ['MG/Bocaina de Minas', 'AL/União dos Palmares']) | <mandatory>, <multiple>, <options>,\n",
       " 'servicos_da_inspecao': (value: ['099 - RESTRITO - SERVIÇO DE RADIAÇÃO RESTRITA', '032 - COLETIVO - RADIOENLACES ASSOCIADOS AO SERVIÇO REDE TRANSPORTE TELECOMUNICAÇÃO']) | <mandatory>, <multiple>, <options>,\n",
       " 'situacao_constatada': (value: Irregular) | <mandatory>, <options>,\n",
       " 'procedimentos': (value: ['Lacração']) | <mandatory>, <multiple>, <options>, conditional,\n",
       " 'irregularidade': (value: []), <multiple>, <options>,\n",
       " 'horas_de_preparacao': (value: 1) | <mandatory>,\n",
       " 'horas_de_deslocamento': (value: 3) | <mandatory>,\n",
       " 'horas_de_execucao': (value: 29) | <mandatory>,\n",
       " 'horas_de_conclusao': (value: 2) | <mandatory>,\n",
       " 'no_sav': (value: Teste de Quebra\n",
       "  de linha),\n",
       " 'no_pcdp': (value: ),\n",
       " 'pai_instaurado_pela_anatel': (value: Sim) | <mandatory>, <options>, conditional,\n",
       " 'coordenacao_responsavel': (value: FI2), <options>,\n",
       " 'numero_do_pai': (value: 123456),\n",
       " 'agrupamento': (value: ),\n",
       " 'no_sei_processo_fiscalizacao': ({'numero': '53554.000005/2024-18', 'link_acesso': 'https://seihm.anatel.gov.br/sei/controlador.php?acao=procedimento_trabalhar&id_procedimento=1982134'}),\n",
       " 'precisa_reservar_instrumentos': (value: 0) | <mandatory>, <options>, conditional,\n",
       " 'utilizou_algum_instrumento': (value: 0) | <mandatory>, <options>, conditional,\n",
       " 'utilizou_tecnicas_amostrais': (value: Usou técnicas amostrais) | <mandatory>, <options>,\n",
       " 'observacao_tecnica_amostral': (value: Simulação com o HTZ) | <mandatory>}"
      ]
     },
     "execution_count": 16,
     "metadata": {},
     "output_type": "execute_result"
    }
   ],
   "source": [
    "issue.editable_fields"
   ]
  },
  {
   "cell_type": "markdown",
   "metadata": {},
   "source": [
    "Caso o conjunto de dados já seja conhecido para dado tipo de inspeção, basta passar o dicionário diretamente para o método `update`. Internamente os métodos mostrados anteriormente de atualização dos campos são chamados."
   ]
  },
  {
   "cell_type": "markdown",
   "metadata": {},
   "source": [
    "## Exemplo completo\n",
    "O dicionário a seguir contém valores misturados de diversos tipos de inspeção distintos, além de valores aleatorizados. A API simplesmente filtra os valores que se aplicam para o tipo de inspeção solicitada e o valor do dado fornecido para os campos condicionais. As demais chaves que não se aplicam são ignoradas."
   ]
  },
  {
   "cell_type": "code",
   "execution_count": 17,
   "metadata": {},
   "outputs": [],
   "source": [
    "# | code-fold: true\n",
    "dados = {\n",
    "    \"endereco_da_inspecao\": \"Rua Machado de Assis, 27 - Morro Grande, Rio de Janeiro - RJ\",\n",
    "    \"campo_eletrico__pico_vm\": randint(50, 100),\n",
    "    \"campo_eletrico_rms_vm\": randint(20, 100),\n",
    "    \"coordenacao_responsavel\": \"FI2\",\n",
    "    \"cnpjcpf_da_entidade\": \"27865757000102\",\n",
    "    \"entidade_com_cadastro_stel\": \"Não\",\n",
    "    \"entidade_outorgada\": randint(0, 1),\n",
    "    \"esta_em_operacao\": randint(0, 1),\n",
    "    \"numero_da_estacao\": \"1493671\",\n",
    "    \"fiscais\": [\"Eric Magalhães Delgado\", \"Ronaldo da Silva Alves Batista\"],\n",
    "    \"fiscal_responsavel\": \"Eric Magalhães Delgado\",\n",
    "    \"foi_constatada_interferencia\": randint(0, 1),\n",
    "    \"frequencia_inicial\": randint(70, 110),\n",
    "    \"frequencia_final\": randint(110, 117),\n",
    "    \"gerar_relatorio\": randint(0, 1),\n",
    "    \"gerar_plai\": randint(0, 1),\n",
    "    \"tipo_do_processo_plai\": random.choice(FIELDS[\"tipo_do_processo_plai\"].options),\n",
    "    \"coord_fi_plai\": random.choice(FIELDS[\"coord_fi_plai\"].options),\n",
    "    \"html_path\": \"/mnt/c/Users/rsilva/code/fiscaliza/tests/Report_2024.02.18_T11.30.55_123456.html\",\n",
    "    \"uploads\": [\n",
    "        {\n",
    "            \"path\": \"/mnt/c/Users/code/fiscaliza/tests/Report_2024.02.18_T11.30.55_123456.json\",\n",
    "            \"filename\": \"Info.json\",\n",
    "        }\n",
    "    ],\n",
    "    \"identificada_a_origem\": str(randint(0, 1)),\n",
    "    \"unidade_da_frequencia_final\": \"MHz\",\n",
    "    \"unidade_da_frequencia_inicial\": \"MHz\",\n",
    "    \"horas_de_conclusao\": randint(1, 8),\n",
    "    \"horas_de_deslocamento\": randint(1, 8),\n",
    "    \"horas_de_execucao\": randint(8, 40),\n",
    "    \"horas_de_preparacao\": randint(1, 8),\n",
    "    \"houve_obice\": random.randint(0, 1),\n",
    "    \"houve_interferencia\": random.choice([\"Sim\", \"Não\"]),\n",
    "    \"latitude_coordenadas\": -randint(0, 33),\n",
    "    \"longitude_coordenadas\": -randint(34, 73),\n",
    "    \"latitude_da_estacao\": -randint(0, 33),\n",
    "    \"longitude_da_estacao\": -randint(34, 73),\n",
    "    \"nome_da_entidade\": \"Globo S/A\",\n",
    "    \"numero_do_pai\": \"123456\",\n",
    "    \"observacao_tecnica_amostral\": \"Simulação com o HTZ\",\n",
    "    \"pai_instaurado_pela_anatel\": random.choice([\"Sim\", \"Não\"]),\n",
    "    \"precisa_reservar_instrumentos\": \"0\",  #\n",
    "    \"procedimentos\": random.choices(FIELDS[\"procedimentos\"].options, k=2),  #\n",
    "    \"qnt_produt_lacradosapreend\": \"0\",\n",
    "    \"reserva_de_instrumentos\": \"0\",\n",
    "    \"no_sav\": \"Teste de Quebra\\n de linha\",\n",
    "    \"documento_instaurador_do_pado\": \"0201235\\n0201239\\n0201237\",\n",
    "    \"no_do_lacre\": \"50\",\n",
    "    \"motivo_de_lai\": random.choice(FIELDS[\"motivo_de_lai\"].options),\n",
    "    \"no_sei_do_aviso_lai\": \"\",\n",
    "    \"sanada_ou_mitigada\": random.choice([\"0\", \"1\"]),\n",
    "    \"servicos_da_inspecao\": random.choices(list(SERVICOS.values()), k=2),\n",
    "    \"situacao_constatada\": \"Irregular\",\n",
    "    \"situacao_de_risco_a_vida\": \"Sim\",\n",
    "    \"tipo_de_inspecao\": random.choice(FIELDS[\"tipo_de_inspecao\"].options),\n",
    "    \"ufmunicipio\": random.choices(MUNICIPIOS, k=2),\n",
    "    \"uso_de_produto_homologado\": random.choice([\"0\", \"1\"]),\n",
    "    \"utilizou_algum_instrumento\": \"0\",\n",
    "    \"utilizou_apoio_policial\": random.choice(FIELDS[\"utilizou_apoio_policial\"].options),\n",
    "    \"utilizou_tecnicas_amostrais\": random.choice(\n",
    "        FIELDS[\"utilizou_tecnicas_amostrais\"].options\n",
    "    ),\n",
    "    \"description\": \"[PMEC 2024 Etapa 2] Monitorar canais e faixas de frequências relacionados às aplicações críticas (como, por exemplo, radionavegação e radiocomunicação aeronáutica e canais de emergência) na forma a ser estabelecida no Plano de Ação de Fiscalização.\\r\\n\",\n",
    "    \"start_date\": \"2024-03-01\",\n",
    "    \"due_date\": \"2024-05-30\",\n",
    "}"
   ]
  },
  {
   "cell_type": "code",
   "execution_count": 18,
   "metadata": {},
   "outputs": [
    {
     "ename": "ValueError",
     "evalue": "Arquivo C:\\Users\\rsilva\\code\\fiscaliza\\tests\\Report_2024.02.18_T11.30.55_123456.json não existe ou não é um arquivo",
     "output_type": "error",
     "traceback": [
      "\u001b[0;31m---------------------------------------------------------------------------\u001b[0m",
      "\u001b[0;31mValueError\u001b[0m                                Traceback (most recent call last)",
      "Cell \u001b[0;32mIn[18], line 1\u001b[0m\n\u001b[0;32m----> 1\u001b[0m \u001b[43missue\u001b[49m\u001b[38;5;241;43m.\u001b[39;49m\u001b[43mupdate\u001b[49m\u001b[43m(\u001b[49m\u001b[43mdados\u001b[49m\u001b[43m)\u001b[49m\n",
      "File \u001b[0;32m~/anatel/fiscaliza/fiscaliza/main.py:577\u001b[0m, in \u001b[0;36mIssue.update\u001b[0;34m(self, dados)\u001b[0m\n\u001b[1;32m    575\u001b[0m     \u001b[38;5;28mself\u001b[39m\u001b[38;5;241m.\u001b[39mclient\u001b[38;5;241m.\u001b[39missue\u001b[38;5;241m.\u001b[39mupdate(\u001b[38;5;28mself\u001b[39m\u001b[38;5;241m.\u001b[39mid, status_id\u001b[38;5;241m=\u001b[39mstatus_id, \u001b[38;5;241m*\u001b[39m\u001b[38;5;241m*\u001b[39mdata)\n\u001b[1;32m    576\u001b[0m \u001b[38;5;28;01melse\u001b[39;00m:\n\u001b[0;32m--> 577\u001b[0m     data \u001b[38;5;241m=\u001b[39m \u001b[38;5;28;43mself\u001b[39;49m\u001b[38;5;241;43m.\u001b[39;49m\u001b[43m_parse_value_dict\u001b[49m\u001b[43m(\u001b[49m\u001b[43mdados\u001b[49m\u001b[43m)\u001b[49m\n\u001b[1;32m    578\u001b[0m     \u001b[38;5;28mself\u001b[39m\u001b[38;5;241m.\u001b[39mclient\u001b[38;5;241m.\u001b[39missue\u001b[38;5;241m.\u001b[39mupdate(\u001b[38;5;28mself\u001b[39m\u001b[38;5;241m.\u001b[39mid, status_id\u001b[38;5;241m=\u001b[39mstatus_id, \u001b[38;5;241m*\u001b[39m\u001b[38;5;241m*\u001b[39mdata)\n\u001b[1;32m    579\u001b[0m \u001b[38;5;28mprint\u001b[39m(\u001b[38;5;124mf\u001b[39m\u001b[38;5;124m\"\u001b[39m\u001b[38;5;124mAtualizado para o status \u001b[39m\u001b[38;5;132;01m{\u001b[39;00mnew_status\u001b[38;5;132;01m}\u001b[39;00m\u001b[38;5;124m\"\u001b[39m)\n",
      "File \u001b[0;32m~/anatel/fiscaliza/fiscaliza/main.py:539\u001b[0m, in \u001b[0;36mIssue._parse_value_dict\u001b[0;34m(self, dados)\u001b[0m\n\u001b[1;32m    537\u001b[0m data \u001b[38;5;241m=\u001b[39m {k: editable_fields[k](v) \u001b[38;5;28;01mfor\u001b[39;00m k, v \u001b[38;5;129;01min\u001b[39;00m data\u001b[38;5;241m.\u001b[39mitems()}\n\u001b[1;32m    538\u001b[0m submitted_fields \u001b[38;5;241m=\u001b[39m {\u001b[38;5;124m\"\u001b[39m\u001b[38;5;124mcustom_fields\u001b[39m\u001b[38;5;124m\"\u001b[39m: []}\n\u001b[0;32m--> 539\u001b[0m \u001b[38;5;28;01mif\u001b[39;00m uploads \u001b[38;5;241m:=\u001b[39m \u001b[38;5;28;43mself\u001b[39;49m\u001b[38;5;241;43m.\u001b[39;49m\u001b[43m_check_uploads\u001b[49m\u001b[43m(\u001b[49m\u001b[43mdados\u001b[49m\u001b[43m)\u001b[49m:\n\u001b[1;32m    540\u001b[0m     submitted_fields[\u001b[38;5;124m\"\u001b[39m\u001b[38;5;124muploads\u001b[39m\u001b[38;5;124m\"\u001b[39m] \u001b[38;5;241m=\u001b[39m uploads\n\u001b[1;32m    541\u001b[0m \u001b[38;5;28;01mfor\u001b[39;00m key, value \u001b[38;5;129;01min\u001b[39;00m data\u001b[38;5;241m.\u001b[39mitems():\n",
      "File \u001b[0;32m~/anatel/fiscaliza/fiscaliza/main.py:517\u001b[0m, in \u001b[0;36mIssue._check_uploads\u001b[0;34m(self, dados)\u001b[0m\n\u001b[1;32m    515\u001b[0m         \u001b[38;5;28;01mif\u001b[39;00m (path \u001b[38;5;241m:=\u001b[39m file\u001b[38;5;241m.\u001b[39mget(\u001b[38;5;124m\"\u001b[39m\u001b[38;5;124mpath\u001b[39m\u001b[38;5;124m\"\u001b[39m)) \u001b[38;5;129;01mis\u001b[39;00m \u001b[38;5;129;01mnot\u001b[39;00m \u001b[38;5;28;01mNone\u001b[39;00m:\n\u001b[1;32m    516\u001b[0m             \u001b[38;5;28;01mif\u001b[39;00m \u001b[38;5;129;01mnot\u001b[39;00m Path(path)\u001b[38;5;241m.\u001b[39mis_file():\n\u001b[0;32m--> 517\u001b[0m                 \u001b[38;5;28;01mraise\u001b[39;00m \u001b[38;5;167;01mValueError\u001b[39;00m(\n\u001b[1;32m    518\u001b[0m                     \u001b[38;5;124mf\u001b[39m\u001b[38;5;124m\"\u001b[39m\u001b[38;5;124mArquivo \u001b[39m\u001b[38;5;132;01m{\u001b[39;00mpath\u001b[38;5;132;01m}\u001b[39;00m\u001b[38;5;124m não existe ou não é um arquivo\u001b[39m\u001b[38;5;124m\"\u001b[39m\n\u001b[1;32m    519\u001b[0m                 )\n\u001b[1;32m    520\u001b[0m             uploads\u001b[38;5;241m.\u001b[39mappend(file)\n\u001b[1;32m    521\u001b[0m \u001b[38;5;28;01mreturn\u001b[39;00m uploads\n",
      "\u001b[0;31mValueError\u001b[0m: Arquivo C:\\Users\\rsilva\\code\\fiscaliza\\tests\\Report_2024.02.18_T11.30.55_123456.json não existe ou não é um arquivo"
     ]
    }
   ],
   "source": [
    "issue.update(dados)"
   ]
  },
  {
   "cell_type": "markdown",
   "metadata": {},
   "source": [
    "## Gerar Relatório de Atividades\n",
    "Para as inspeções de `Certificação` e `Uso do Espectro - Monitoração` é possível gerar o relatório de atividades no SEI por meio do Fiscaliza, para tal basta fornecer o valor: \n",
    "```\n",
    "dados['gerar_relatório'] = '1'\n",
    "```\n"
   ]
  },
  {
   "cell_type": "code",
   "execution_count": null,
   "metadata": {},
   "outputs": [
    {
     "name": "stdout",
     "output_type": "stream",
     "text": [
      "Atualizado para o status Relatando\n"
     ]
    }
   ],
   "source": [
    "dados['gerar_relatorio'] = '1'\n",
    "issue.update(dados)"
   ]
  },
  {
   "cell_type": "code",
   "execution_count": null,
   "metadata": {},
   "outputs": [
    {
     "data": {
      "text/plain": [
       "{'acao': {'type': 'acao_de_inspecao',\n",
       "  'status': 'Em andamento',\n",
       "  'name': 'ACAO_GR08_2024_0014',\n",
       "  'description': '[PMEC 2024 Etapa 2] Monitorar canais e faixas de frequências relacionados às aplicações críticas (como, por exemplo, radionavegação e radiocomunicação aeronáutica e canais de emergência) na forma a ser estabelecida no Plano de Ação de Fiscalização.\\r\\n'},\n",
       " 'agrupamento': '',\n",
       " 'allowed_statuses': '',\n",
       " 'anexos': ['https://sistemasnethm/fiscaliza/attachments/download/9190/Info.json'],\n",
       " 'ano_de_execucao': 2024,\n",
       " 'app_fiscaliza': 0,\n",
       " 'assigned_to': 'Eric Magalhães Delgado',\n",
       " 'atualizacao': 'Atualizada por Ronaldo da Silva Alves Batista em 25/07/2024 às 05:03:48',\n",
       " 'author': 'Eric Magalhães Delgado',\n",
       " 'changesets': '',\n",
       " 'children': '',\n",
       " 'classe_da_inspecao': 'Técnica',\n",
       " 'closed_on': '',\n",
       " 'coordenacao_responsavel': 'FI2',\n",
       " 'created_on': '2024-04-18T12:38:03Z',\n",
       " 'data_de_inicio_efetivo': '2024-07-25',\n",
       " 'description': '[PMEC 2024 Etapa 2] Monitorar canais e faixas de frequências relacionados às aplicações críticas (como, por exemplo, radionavegação e radiocomunicação aeronáutica e canais de emergência) na forma a ser estabelecida no Plano de Ação de Fiscalização.\\r\\n',\n",
       " 'done_ratio': 0,\n",
       " 'due_date': '2024-05-30',\n",
       " 'entidade_da_inspecao': [],\n",
       " 'estimated_hours': '',\n",
       " 'fiscais': ['Eric Magalhães Delgado', 'Ronaldo da Silva Alves Batista'],\n",
       " 'fiscal_responsavel': 'Eric Magalhães Delgado',\n",
       " 'horas_de_conclusao': 4,\n",
       " 'horas_de_deslocamento': 3,\n",
       " 'horas_de_execucao': 11,\n",
       " 'horas_de_preparacao': 2,\n",
       " 'id': 124182,\n",
       " 'irregularidade': [],\n",
       " 'is_private': False,\n",
       " 'membros': ['Gilmar Ferreira do Nascimento',\n",
       "  'Luis Fernando Camelier de Queiroz',\n",
       "  'Michel Kulhavy Cerqueira',\n",
       "  'Iulo de Araújo Lima Lobo',\n",
       "  'Carlos Fernando Muniz Santos',\n",
       "  'Isabel Cristina Cruz Soares e Souza',\n",
       "  'Alessandro Vasconcelos Fernandes',\n",
       "  'Anecy Oliveira de Freitas',\n",
       "  'Wilton Machado de Oliveira',\n",
       "  'Ilva Perla Monteiro Ferreira',\n",
       "  'Lin Yu Wan',\n",
       "  'Alexnaldo Cerqueira da Silva',\n",
       "  'Jorgean Ferreira Leal',\n",
       "  'José Mauricio Leite Araújo',\n",
       "  'Arildo Oliva Franca Filho',\n",
       "  'Leonardo Lago Araújo',\n",
       "  'Brasilio Rios Leite',\n",
       "  'Fiscal UD',\n",
       "  'José Ivan Gomes',\n",
       "  'Jaqueline Cesario da Silva',\n",
       "  'Eric Magalhães Delgado',\n",
       "  'Ronaldo da Silva Alves Batista'],\n",
       " 'motivo_de_lai': ['Interferência prejudicial'],\n",
       " 'no_fiscaliza_issue': {'numero': '124182',\n",
       "  'link_acesso': 'https://sistemasnethm/fiscaliza/issues/124182'},\n",
       " 'no_pcdp': '',\n",
       " 'no_sav': 'Teste de Quebra\\n de linha',\n",
       " 'no_sei_do_aviso_lai': '',\n",
       " 'no_sei_do_plaiguarda': '',\n",
       " 'no_sei_processo_fiscalizacao': \"{'numero': '53554.000005/2024-18', 'link_acesso': 'https://seihm.anatel.gov.br/sei/controlador.php?acao=procedimento_trabalhar&id_procedimento=1982134'}\",\n",
       " 'numero_do_pai': 123456,\n",
       " 'observacao_tecnica_amostral': 'Simulação com o HTZ',\n",
       " 'pai_instaurado_pela_anatel': 'Sim',\n",
       " 'precisa_reservar_instrumentos': 0,\n",
       " 'priority': 'Normal',\n",
       " 'procedimentos': ['Emissão Termo Violação de Lacre', 'Interrupção'],\n",
       " 'project': 'GR08',\n",
       " 'servicos_da_inspecao': ['729 - COLETIVO - TV A CABO',\n",
       "  '507 - RESTRITO - MÓVEL AERONÁUTICO'],\n",
       " 'situacao_constatada': 'Irregular',\n",
       " 'spent_hours': 0.0,\n",
       " 'start_date': '2024-03-01',\n",
       " 'status': 'Relatando',\n",
       " 'subject': 'INSP_GR08_2024_0147',\n",
       " 'subtema': ['Radiomonitoração Terrestre'],\n",
       " 'tema': ['Uso do Espectro'],\n",
       " 'time_entries': '',\n",
       " 'tipo_de_inspecao': 'Outorga - Aspectos não Técnicos',\n",
       " 'total_de_horas': 20.0,\n",
       " 'total_estimated_hours': '',\n",
       " 'total_spent_hours': 0.0,\n",
       " 'tracker': 'Atividade de Inspeção',\n",
       " 'ufmunicipio': ['MG/Baldim', 'PA/São João da Ponta'],\n",
       " 'updated_on': '2024-07-25T08:03:48Z',\n",
       " 'utilizou_algum_instrumento': 0,\n",
       " 'utilizou_tecnicas_amostrais': 'Usou técnicas amostrais',\n",
       " 'watchers': ''}"
      ]
     },
     "execution_count": null,
     "metadata": {},
     "output_type": "execute_result"
    }
   ],
   "source": [
    "issue.attrs"
   ]
  },
  {
   "cell_type": "markdown",
   "metadata": {},
   "source": [
    "> Para substituir o relatório de atividades, basta refazer a chamada fornecendo o valor `1` para a chave `gerar_relatorio`."
   ]
  },
  {
   "cell_type": "code",
   "execution_count": null,
   "metadata": {},
   "outputs": [
    {
     "name": "stdout",
     "output_type": "stream",
     "text": [
      "Atualizado para o status Relatando\n"
     ]
    }
   ],
   "source": [
    "dados[\"gerar_relatorio\"] = \"1\"\n",
    "issue.update(dados)"
   ]
  },
  {
   "cell_type": "code",
   "execution_count": null,
   "metadata": {},
   "outputs": [
    {
     "data": {
      "text/plain": [
       "{'acao': {'type': 'acao_de_inspecao',\n",
       "  'status': 'Em andamento',\n",
       "  'name': 'ACAO_GR08_2024_0014',\n",
       "  'description': '[PMEC 2024 Etapa 2] Monitorar canais e faixas de frequências relacionados às aplicações críticas (como, por exemplo, radionavegação e radiocomunicação aeronáutica e canais de emergência) na forma a ser estabelecida no Plano de Ação de Fiscalização.\\r\\n'},\n",
       " 'agrupamento': '',\n",
       " 'allowed_statuses': '',\n",
       " 'anexos': ['https://sistemasnethm/fiscaliza/attachments/download/9190/Info.json'],\n",
       " 'ano_de_execucao': 2024,\n",
       " 'app_fiscaliza': 0,\n",
       " 'assigned_to': 'Eric Magalhães Delgado',\n",
       " 'atualizacao': 'Atualizada por Ronaldo da Silva Alves Batista em 25/07/2024 às 05:03:48',\n",
       " 'author': 'Eric Magalhães Delgado',\n",
       " 'changesets': '',\n",
       " 'children': '',\n",
       " 'classe_da_inspecao': 'Técnica',\n",
       " 'closed_on': '',\n",
       " 'coordenacao_responsavel': 'FI2',\n",
       " 'created_on': '2024-04-18T12:38:03Z',\n",
       " 'data_de_inicio_efetivo': '2024-07-25',\n",
       " 'description': '[PMEC 2024 Etapa 2] Monitorar canais e faixas de frequências relacionados às aplicações críticas (como, por exemplo, radionavegação e radiocomunicação aeronáutica e canais de emergência) na forma a ser estabelecida no Plano de Ação de Fiscalização.\\r\\n',\n",
       " 'done_ratio': 0,\n",
       " 'due_date': '2024-05-30',\n",
       " 'entidade_da_inspecao': [],\n",
       " 'estimated_hours': '',\n",
       " 'fiscais': ['Eric Magalhães Delgado', 'Ronaldo da Silva Alves Batista'],\n",
       " 'fiscal_responsavel': 'Eric Magalhães Delgado',\n",
       " 'horas_de_conclusao': 4,\n",
       " 'horas_de_deslocamento': 3,\n",
       " 'horas_de_execucao': 11,\n",
       " 'horas_de_preparacao': 2,\n",
       " 'id': 124182,\n",
       " 'irregularidade': [],\n",
       " 'is_private': False,\n",
       " 'membros': ['Gilmar Ferreira do Nascimento',\n",
       "  'Luis Fernando Camelier de Queiroz',\n",
       "  'Michel Kulhavy Cerqueira',\n",
       "  'Iulo de Araújo Lima Lobo',\n",
       "  'Carlos Fernando Muniz Santos',\n",
       "  'Isabel Cristina Cruz Soares e Souza',\n",
       "  'Alessandro Vasconcelos Fernandes',\n",
       "  'Anecy Oliveira de Freitas',\n",
       "  'Wilton Machado de Oliveira',\n",
       "  'Ilva Perla Monteiro Ferreira',\n",
       "  'Lin Yu Wan',\n",
       "  'Alexnaldo Cerqueira da Silva',\n",
       "  'Jorgean Ferreira Leal',\n",
       "  'José Mauricio Leite Araújo',\n",
       "  'Arildo Oliva Franca Filho',\n",
       "  'Leonardo Lago Araújo',\n",
       "  'Brasilio Rios Leite',\n",
       "  'Fiscal UD',\n",
       "  'José Ivan Gomes',\n",
       "  'Jaqueline Cesario da Silva',\n",
       "  'Eric Magalhães Delgado',\n",
       "  'Ronaldo da Silva Alves Batista'],\n",
       " 'motivo_de_lai': ['Interferência prejudicial'],\n",
       " 'no_fiscaliza_issue': {'numero': '124182',\n",
       "  'link_acesso': 'https://sistemasnethm/fiscaliza/issues/124182'},\n",
       " 'no_pcdp': '',\n",
       " 'no_sav': 'Teste de Quebra\\n de linha',\n",
       " 'no_sei_do_aviso_lai': '',\n",
       " 'no_sei_do_plaiguarda': '',\n",
       " 'no_sei_processo_fiscalizacao': \"{'numero': '53554.000005/2024-18', 'link_acesso': 'https://seihm.anatel.gov.br/sei/controlador.php?acao=procedimento_trabalhar&id_procedimento=1982134'}\",\n",
       " 'numero_do_pai': 123456,\n",
       " 'observacao_tecnica_amostral': 'Simulação com o HTZ',\n",
       " 'pai_instaurado_pela_anatel': 'Sim',\n",
       " 'precisa_reservar_instrumentos': 0,\n",
       " 'priority': 'Normal',\n",
       " 'procedimentos': ['Emissão Termo Violação de Lacre', 'Interrupção'],\n",
       " 'project': 'GR08',\n",
       " 'servicos_da_inspecao': ['729 - COLETIVO - TV A CABO',\n",
       "  '507 - RESTRITO - MÓVEL AERONÁUTICO'],\n",
       " 'situacao_constatada': 'Irregular',\n",
       " 'spent_hours': 0.0,\n",
       " 'start_date': '2024-03-01',\n",
       " 'status': 'Relatando',\n",
       " 'subject': 'INSP_GR08_2024_0147',\n",
       " 'subtema': ['Radiomonitoração Terrestre'],\n",
       " 'tema': ['Uso do Espectro'],\n",
       " 'time_entries': '',\n",
       " 'tipo_de_inspecao': 'Outorga - Aspectos não Técnicos',\n",
       " 'total_de_horas': 20.0,\n",
       " 'total_estimated_hours': '',\n",
       " 'total_spent_hours': 0.0,\n",
       " 'tracker': 'Atividade de Inspeção',\n",
       " 'ufmunicipio': ['MG/Baldim', 'PA/São João da Ponta'],\n",
       " 'updated_on': '2024-07-25T08:04:01Z',\n",
       " 'utilizou_algum_instrumento': 0,\n",
       " 'utilizou_tecnicas_amostrais': 'Usou técnicas amostrais',\n",
       " 'watchers': ''}"
      ]
     },
     "execution_count": null,
     "metadata": {},
     "output_type": "execute_result"
    }
   ],
   "source": [
    "issue.attrs"
   ]
  },
  {
   "cell_type": "markdown",
   "metadata": {},
   "source": [
    "> Caso o intuito seja somente editar o campo `Relatório de Atividades`, basta fornecer o valor para a chave `relatorio_de_atividades` e não esquecer de fornecer o valor `0` para a chave `gerar_relatório` ou simplesmente excluí-la.  "
   ]
  },
  {
   "cell_type": "code",
   "execution_count": null,
   "metadata": {},
   "outputs": [
    {
     "name": "stdout",
     "output_type": "stream",
     "text": [
      "Atualizado para o status Relatando\n"
     ]
    }
   ],
   "source": [
    "dados['relatorio_de_atividades'] = '0206885'\n",
    "dados['gerar_relatorio'] = '0'\n",
    "issue.update(dados)"
   ]
  }
 ],
 "metadata": {
  "kernelspec": {
   "display_name": "python3",
   "language": "python",
   "name": "python3"
  },
  "language_info": {
   "codemirror_mode": {
    "name": "ipython",
    "version": 3
   },
   "file_extension": ".py",
   "mimetype": "text/x-python",
   "name": "python",
   "nbconvert_exporter": "python",
   "pygments_lexer": "ipython3",
   "version": "3.12.4"
  }
 },
 "nbformat": 4,
 "nbformat_minor": 2
}
