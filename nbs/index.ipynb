{
 "cells": [
  {
   "cell_type": "markdown",
   "metadata": {},
   "source": [
    "# API para relato no Fiscaliza da Anatel"
   ]
  },
  {
   "cell_type": "code",
   "execution_count": 1,
   "metadata": {},
   "outputs": [
    {
     "data": {
      "text/plain": [
       "True"
      ]
     },
     "execution_count": 1,
     "metadata": {},
     "output_type": "execute_result"
    }
   ],
   "source": [
    "import os\n",
    "import random\n",
    "from random import randint\n",
    "from pprint import pprint\n",
    "from dotenv import load_dotenv\n",
    "from fiscaliza.main import Fiscaliza\n",
    "from fiscaliza.constants import MUNICIPIOS, SERVICOS\n",
    "load_dotenv(override=True)"
   ]
  },
  {
   "cell_type": "markdown",
   "metadata": {},
   "source": [
    "## Autenticação e Conexão com o servidor do Redmine\n",
    "A classe `Fiscaliza` é somente para efetuar a conexão e autenticação com o servidor do Redmine. "
   ]
  },
  {
   "cell_type": "code",
   "execution_count": 2,
   "metadata": {},
   "outputs": [],
   "source": [
    "issue_id = \"124175\"\n",
    "fiscaliza = Fiscaliza(os.environ[\"USERNAME\"], os.environ[\"PASSWORD\"], teste=True)\n",
    "issue = fiscaliza.get_issue(issue_id)"
   ]
  },
  {
   "cell_type": "markdown",
   "metadata": {},
   "source": [
    "## Conexão com dada inspeção \n",
    "O método `get_issue` instancia e retorna um objeto do tipo `Issue`, este que encapsula a funcionalidade principal de resgate de informações, validação e formatação de informações e atualização de inspeção.\n",
    "O mesmo objeto pode ser instanciado diretamente passando o `client` do objeto `Fiscaliza` após autenticado e o `id` da inspeção.\n",
    "```\n",
    "issue = Issue(fiscaliza.client, issue_id)\n",
    "```"
   ]
  },
  {
   "cell_type": "markdown",
   "metadata": {},
   "source": [
    "## Informações da Inspeção\n",
    "Todas as informações principais da Inspeção estão disponíveis através do atributo `attrs`"
   ]
  },
  {
   "cell_type": "code",
   "execution_count": 3,
   "metadata": {},
   "outputs": [
    {
     "data": {
      "text/plain": [
       "{'ACAO': {'type': 'acao_de_inspecao',\n",
       "  'status': 'Em andamento',\n",
       "  'name': 'ACAO_GR08_2024_0014',\n",
       "  'description': '[PMEC 2024 Etapa 2] Monitorar canais e faixas de frequências relacionados às aplicações críticas (como, por exemplo, radionavegação e radiocomunicação aeronáutica e canais de emergência) na forma a ser estabelecida no Plano de Ação de Fiscalização.\\r\\n'},\n",
       " 'ALLOWED_STATUSES': 'None',\n",
       " 'ANEXOS': ['https://sistemasnethm/fiscaliza/attachments/download/9165/Info.json',\n",
       "  'https://sistemasnethm/fiscaliza/attachments/download/9167/Info.json'],\n",
       " 'ANO_DE_EXECUCAO': '2024',\n",
       " 'APP_FISCALIZA': '0',\n",
       " 'ASSIGNED_TO': 'Ronaldo da Silva Alves Batista',\n",
       " 'ATUALIZACAO': 'Atualizado por Ronaldo da Silva Alves Batista em 21/06/2024 às 04:17:37',\n",
       " 'AUTHOR': 'Eric Magalhães Delgado',\n",
       " 'CHANGESETS': 'None',\n",
       " 'CHILDREN': 'None',\n",
       " 'CLASSE_DA_INSPECAO': 'Técnica',\n",
       " 'CLOSED_ON': 'None',\n",
       " 'COORDENADAS_GEOGRAFICAS': \"{'latitude': '-19', 'longitude': '-38'}\",\n",
       " 'CREATED_ON': '2024-04-18T12:37:47Z',\n",
       " 'DATA_DE_INICIO_EFETIVO': '2024-05-24',\n",
       " 'DONE_RATIO': '0',\n",
       " 'ESTIMATED_HOURS': 'None',\n",
       " 'ID': '124175',\n",
       " 'IS_PRIVATE': 'False',\n",
       " 'MEMBROS': ['Gilmar Ferreira do Nascimento',\n",
       "  'Luis Fernando Camelier de Queiroz',\n",
       "  'Michel Kulhavy Cerqueira',\n",
       "  'Iulo de Araújo Lima Lobo',\n",
       "  'Carlos Fernando Muniz Santos',\n",
       "  'Isabel Cristina Cruz Soares e Souza',\n",
       "  'Alessandro Vasconcelos Fernandes',\n",
       "  'Anecy Oliveira de Freitas',\n",
       "  'Wilton Machado de Oliveira',\n",
       "  'Ilva Perla Monteiro Ferreira',\n",
       "  'Lin Yu Wan',\n",
       "  'Alexnaldo Cerqueira da Silva',\n",
       "  'Jorgean Ferreira Leal',\n",
       "  'José Mauricio Leite Araújo',\n",
       "  'Arildo Oliva Franca Filho',\n",
       "  'Leonardo Lago Araújo',\n",
       "  'Brasilio Rios Leite',\n",
       "  'Fiscal UD',\n",
       "  'José Ivan Gomes',\n",
       "  'Jaqueline Cesario da Silva',\n",
       "  'Eric Magalhães Delgado',\n",
       "  'Ronaldo da Silva Alves Batista'],\n",
       " 'NO_SEI_DO_AVISO_LAI': \"{'numero': '0206683', 'link_acesso': 'https://seihm.anatel.gov.br/sei/controlador.php?acao=procedimento_trabalhar&id_procedimento=1982134&id_documento=1982751'}\",\n",
       " 'NO_SEI_PROCESSO_FISCALIZACAO': \"{'numero': '53554.000005/2024-18', 'link_acesso': 'https://seihm.anatel.gov.br/sei/controlador.php?acao=procedimento_trabalhar&id_procedimento=1982134'}\",\n",
       " 'NO_SEI_RELATORIO_DE_ATIVIDADES': \"{'numero': '0206885', 'link_acesso': 'https://seihm.anatel.gov.br/sei/controlador.php?acao=procedimento_trabalhar&id_procedimento=1982134&id_documento=1982998'}\",\n",
       " 'PRIORITY': 'Normal',\n",
       " 'PROJECT': 'GR08',\n",
       " 'SPENT_HOURS': '0.0',\n",
       " 'SUBJECT': 'INSP_GR08_2024_0140',\n",
       " 'SUBTEMA': 'Radiomonitoração Terrestre',\n",
       " 'TEMA': 'Uso do Espectro',\n",
       " 'TIME_ENTRIES': 'None',\n",
       " 'TOTAL_ESTIMATED_HOURS': 'None',\n",
       " 'TOTAL_SPENT_HOURS': '0.0',\n",
       " 'TRACKER': 'Atividade de Inspeção',\n",
       " 'UPDATED_ON': '2024-06-21T07:17:37Z',\n",
       " 'WATCHERS': 'None',\n",
       " 'agrupamento': '',\n",
       " 'area_do_pacp': '',\n",
       " 'cnpjcpf_da_entidade': '27865757000102',\n",
       " 'coordenacao_responsavel': 'FI3',\n",
       " 'dadospacp': 'None',\n",
       " 'description': '[PMEC 2024 Etapa 2] Monitorar canais e faixas de frequências relacionados às aplicações críticas (como, por exemplo, radionavegação e radiocomunicação aeronáutica e canais de emergência) na forma a ser estabelecida no Plano de Ação de Fiscalização.\\r\\n',\n",
       " 'documento_instaurador_do_pado': '',\n",
       " 'due_date': '2024-11-30',\n",
       " 'endereco_da_inspecao': 'Rua Machado de Assis, 27 - Morro Grande, Rio de Janeiro - RJ',\n",
       " 'entidade_com_cadastro_stel': 'Não',\n",
       " 'fiscais': [''],\n",
       " 'fiscal_responsavel': '',\n",
       " 'horas_de_conclusao': '1',\n",
       " 'horas_de_deslocamento': '3',\n",
       " 'horas_de_execucao': '9',\n",
       " 'horas_de_preparacao': '1',\n",
       " 'houve_obice': '0',\n",
       " 'identificada_a_origem': '0',\n",
       " 'irregularidade': [],\n",
       " 'latitude_coordenadas': '',\n",
       " 'longitude_coordenadas': '',\n",
       " 'motivo_de_lai': 'Clandestinidade',\n",
       " 'no_do_lacre': '50',\n",
       " 'no_pcdp': '',\n",
       " 'no_sav': '',\n",
       " 'no_sei_do_plaiguarda': '',\n",
       " 'nome_da_entidade': 'Globo S/A',\n",
       " 'observacao_tecnica_amostral': 'Simulação com o HTZ',\n",
       " 'precisa_reservar_instrumentos': '0',\n",
       " 'procedimentos': ['Lacração', 'Apreensão'],\n",
       " 'qnt_produt_lacradosapreend': '0',\n",
       " 'servicos_da_inspecao': '302 - RESTRITO - RADIOAMADOR',\n",
       " 'situacao_constatada': 'Irregular',\n",
       " 'start_date': '2024-03-01',\n",
       " 'status': 'Relatando',\n",
       " 'tipo_de_inspecao': 'Certificação',\n",
       " 'total_de_horas': '14.0',\n",
       " 'ufmunicipio': ['RS/Forquetinha',\n",
       "  'CE/Boa Viagem',\n",
       "  'SE/Umbaúba',\n",
       "  'MS/Nioaque',\n",
       "  'RS/Santa Vitória do Palmar'],\n",
       " 'utilizou_algum_instrumento': '0',\n",
       " 'utilizou_tecnicas_amostrais': 'Não usou técnicas amostrais'}"
      ]
     },
     "execution_count": 3,
     "metadata": {},
     "output_type": "execute_result"
    }
   ],
   "source": [
    "issue.attrs"
   ]
  },
  {
   "cell_type": "markdown",
   "metadata": {},
   "source": [
    "O atributo acima retorna um dicionário com as informações da Inspeção. As chaves em letra MAIÚSCULA são dados somente informativos e não podem ser editados diretamente pela API, alguns deles são retornados pelo Redmine mas não possuem uso na Instância do Fiscaliza na Anatel. Um exemplo desses é o atributo `CHILDREN`, sempre vazio."
   ]
  },
  {
   "cell_type": "markdown",
   "metadata": {},
   "source": [
    "## Dados editáveis\n",
    "Os dados que são editáveis, tanto pela API quanto pela interface web aparecem em `minúsculo` no dicionário. Para estes dados temos um outro método mais informativo:"
   ]
  },
  {
   "cell_type": "code",
   "execution_count": 4,
   "metadata": {},
   "outputs": [
    {
     "data": {
      "text/plain": [
       "{'status': (value: Relatando),\n",
       " 'description': (value: [PMEC 2024 Etapa 2] Monitorar canais e faixas de frequências relacionados às aplicações críticas (como, por exemplo, radionavegação e radiocomunicação aeronáutica e canais de emergência) na forma a ser estabelecida no Plano de Ação de Fiscalização.\n",
       " ) | <mandatory>,\n",
       " 'start_date': (value: 2024-03-01) | <mandatory>,\n",
       " 'due_date': (value: 2024-11-30) | <mandatory>,\n",
       " 'tipo_de_inspecao': (value: Certificação) | <mandatory>, <options>, ⚠️conditional,\n",
       " 'fiscal_responsavel': (value: ) | <mandatory>, <options>,\n",
       " 'fiscais': (value: ['']) | <mandatory>, <multiple>, <options>,\n",
       " 'ufmunicipio': (value: ['RS/Forquetinha', 'CE/Boa Viagem', 'SE/Umbaúba', 'MS/Nioaque', 'RS/Santa Vitória do Palmar']) | <mandatory>, <multiple>, <options>,\n",
       " 'servicos_da_inspecao': (value: 302 - RESTRITO - RADIOAMADOR) | <mandatory>, <multiple>, <options>,\n",
       " 'situacao_constatada': (value: Irregular) | <mandatory>, <options>,\n",
       " 'procedimentos': (value: ['Lacração', 'Apreensão']) | <mandatory>, <multiple>, <options>, ⚠️conditional,\n",
       " 'irregularidade': (value: []), <multiple>, <options>,\n",
       " 'horas_de_preparacao': (value: 1) | <mandatory>,\n",
       " 'horas_de_deslocamento': (value: 3) | <mandatory>,\n",
       " 'horas_de_execucao': (value: 9) | <mandatory>,\n",
       " 'horas_de_conclusao': (value: 1) | <mandatory>,\n",
       " 'no_sav': (value: ),\n",
       " 'no_pcdp': (value: ),\n",
       " 'documento_instaurador_do_pado': (value: ),\n",
       " 'houve_obice': (value: 0) | <mandatory>, <options>,\n",
       " 'nome_da_entidade': (value: Globo S/A) | <mandatory>,\n",
       " 'cnpjcpf_da_entidade': (value: 27865757000102),\n",
       " 'endereco_da_inspecao': (value: Rua Machado de Assis, 27 - Morro Grande, Rio de Janeiro - RJ) | <mandatory>,\n",
       " 'qnt_produt_lacradosapreend': (value: 0) | <mandatory>,\n",
       " 'identificada_a_origem': (value: 0) | <mandatory>, <options>, ⚠️conditional,\n",
       " 'motivo_de_lai': (value: Clandestinidade) | <mandatory>, <multiple>, <options>,\n",
       " 'no_do_lacre': (value: 50) | <mandatory>,\n",
       " 'latitude_coordenadas': (value: ) | <mandatory>,\n",
       " 'longitude_coordenadas': (value: ) | <mandatory>,\n",
       " 'coordenacao_responsavel': (value: FI3),\n",
       " 'entidade_com_cadastro_stel': (value: Não) | <mandatory>, <options>,\n",
       " 'agrupamento': (value: ),\n",
       " 'dadospacp': (value: None),\n",
       " 'area_do_pacp': (value: ), <options>,\n",
       " 'no_sei_do_plaiguarda': (),\n",
       " 'precisa_reservar_instrumentos': (value: 0) | <mandatory>, <options>, ⚠️conditional,\n",
       " 'utilizou_algum_instrumento': (value: 0) | <mandatory>, <options>, ⚠️conditional,\n",
       " 'utilizou_tecnicas_amostrais': (value: Não usou técnicas amostrais) | <mandatory>, <options>,\n",
       " 'observacao_tecnica_amostral': (value: Simulação com o HTZ) | <mandatory>,\n",
       " 'total_de_horas': (value: 14.0)}"
      ]
     },
     "execution_count": 4,
     "metadata": {},
     "output_type": "execute_result"
    }
   ],
   "source": [
    "issue.editable_fields"
   ]
  },
  {
   "cell_type": "markdown",
   "metadata": {},
   "source": [
    "Nesse caso as chaves são os nomes dos campos e os valores são os objetos que modelam o campo. Ao mostrar ou imprimir o dicionário, como mostrado acima, é impresso o valor atual do campo entre parênteses.\n",
    "```\n",
    "'tipo_de_inspecao': (value: Uso do Espectro - Não Outorgado) | <mandatory>, <options>, ⚠️conditional\n",
    "```\n",
    "Separado pela barra vertical são mostrados alguns atributos do campo:\n",
    "\n",
    "  - `<mandatory>` indica que o campo é obrigatório;\n",
    "  - `<multiple>` indica que o campo aceita mais de um valor. Deve ser fornecido uma lista\n",
    "  - `<options>` indica que o campo aceita valores pré-definidos;\n",
    "  - `⚠️conditional` indica que o campo é condicional e para dado valor preenchido neste campo, ficam disponíveis outros campos, estes podem ser obrigatórios e inclusive condicionais"
   ]
  },
  {
   "cell_type": "markdown",
   "metadata": {},
   "source": [
    "O valor em si do campo é guardado no atributo `value`, acessado através da notação de ponto "
   ]
  },
  {
   "cell_type": "code",
   "execution_count": 5,
   "metadata": {},
   "outputs": [
    {
     "data": {
      "text/plain": [
       "'Certificação'"
      ]
     },
     "execution_count": 5,
     "metadata": {},
     "output_type": "execute_result"
    }
   ],
   "source": [
    "issue.editable_fields['tipo_de_inspecao'].value"
   ]
  },
  {
   "cell_type": "markdown",
   "metadata": {},
   "source": [
    "Os dois métodos a seguir filtram, dentre os campos editáveis, os campos obrigatório e condicionais:"
   ]
  },
  {
   "cell_type": "code",
   "execution_count": 6,
   "metadata": {},
   "outputs": [
    {
     "data": {
      "text/plain": [
       "{'description': (value: [PMEC 2024 Etapa 2] Monitorar canais e faixas de frequências relacionados às aplicações críticas (como, por exemplo, radionavegação e radiocomunicação aeronáutica e canais de emergência) na forma a ser estabelecida no Plano de Ação de Fiscalização.\n",
       " ) | <mandatory>,\n",
       " 'start_date': (value: 2024-03-01) | <mandatory>,\n",
       " 'due_date': (value: 2024-11-30) | <mandatory>,\n",
       " 'tipo_de_inspecao': (value: Certificação) | <mandatory>, <options>, ⚠️conditional,\n",
       " 'fiscal_responsavel': (value: ) | <mandatory>, <options>,\n",
       " 'fiscais': (value: ['']) | <mandatory>, <multiple>, <options>,\n",
       " 'ufmunicipio': (value: ['RS/Forquetinha', 'CE/Boa Viagem', 'SE/Umbaúba', 'MS/Nioaque', 'RS/Santa Vitória do Palmar']) | <mandatory>, <multiple>, <options>,\n",
       " 'servicos_da_inspecao': (value: 302 - RESTRITO - RADIOAMADOR) | <mandatory>, <multiple>, <options>,\n",
       " 'situacao_constatada': (value: Irregular) | <mandatory>, <options>,\n",
       " 'procedimentos': (value: ['Lacração', 'Apreensão']) | <mandatory>, <multiple>, <options>, ⚠️conditional,\n",
       " 'horas_de_preparacao': (value: 1) | <mandatory>,\n",
       " 'horas_de_deslocamento': (value: 3) | <mandatory>,\n",
       " 'horas_de_execucao': (value: 9) | <mandatory>,\n",
       " 'horas_de_conclusao': (value: 1) | <mandatory>,\n",
       " 'houve_obice': (value: 0) | <mandatory>, <options>,\n",
       " 'nome_da_entidade': (value: Globo S/A) | <mandatory>,\n",
       " 'endereco_da_inspecao': (value: Rua Machado de Assis, 27 - Morro Grande, Rio de Janeiro - RJ) | <mandatory>,\n",
       " 'qnt_produt_lacradosapreend': (value: 0) | <mandatory>,\n",
       " 'identificada_a_origem': (value: 0) | <mandatory>, <options>, ⚠️conditional,\n",
       " 'motivo_de_lai': (value: Clandestinidade) | <mandatory>, <multiple>, <options>,\n",
       " 'no_do_lacre': (value: 50) | <mandatory>,\n",
       " 'latitude_coordenadas': (value: ) | <mandatory>,\n",
       " 'longitude_coordenadas': (value: ) | <mandatory>,\n",
       " 'entidade_com_cadastro_stel': (value: Não) | <mandatory>, <options>,\n",
       " 'precisa_reservar_instrumentos': (value: 0) | <mandatory>, <options>, ⚠️conditional,\n",
       " 'utilizou_algum_instrumento': (value: 0) | <mandatory>, <options>, ⚠️conditional,\n",
       " 'utilizou_tecnicas_amostrais': (value: Não usou técnicas amostrais) | <mandatory>, <options>,\n",
       " 'observacao_tecnica_amostral': (value: Simulação com o HTZ) | <mandatory>}"
      ]
     },
     "execution_count": 6,
     "metadata": {},
     "output_type": "execute_result"
    }
   ],
   "source": [
    "issue.mandatory_fields()"
   ]
  },
  {
   "cell_type": "code",
   "execution_count": 7,
   "metadata": {},
   "outputs": [
    {
     "data": {
      "text/plain": [
       "{'tipo_de_inspecao': (value: Certificação) | <mandatory>, <options>, ⚠️conditional,\n",
       " 'procedimentos': (value: ['Lacração', 'Apreensão']) | <mandatory>, <multiple>, <options>, ⚠️conditional,\n",
       " 'identificada_a_origem': (value: 0) | <mandatory>, <options>, ⚠️conditional,\n",
       " 'precisa_reservar_instrumentos': (value: 0) | <mandatory>, <options>, ⚠️conditional,\n",
       " 'utilizou_algum_instrumento': (value: 0) | <mandatory>, <options>, ⚠️conditional}"
      ]
     },
     "execution_count": 7,
     "metadata": {},
     "output_type": "execute_result"
    }
   ],
   "source": [
    "issue.conditional_fields()"
   ]
  },
  {
   "cell_type": "markdown",
   "metadata": {},
   "source": [
    "O conjunto de valores para os campos com opções pré-definidas estão relacionados no atributo `.options`"
   ]
  },
  {
   "cell_type": "code",
   "execution_count": 8,
   "metadata": {},
   "outputs": [
    {
     "data": {
      "text/plain": [
       "['Bloqueio Administrativo',\n",
       " 'Certificação',\n",
       " 'Medição de CEMRF (RNI)',\n",
       " 'Outorga - Aspectos não Técnicos',\n",
       " 'Outorga - Aspectos Técnicos',\n",
       " 'Uso do Espectro - Interferência',\n",
       " 'Uso do Espectro - Monitoração',\n",
       " 'Uso do Espectro - Não Outorgado']"
      ]
     },
     "execution_count": 8,
     "metadata": {},
     "output_type": "execute_result"
    }
   ],
   "source": [
    "issue.editable_fields['tipo_de_inspecao'].options"
   ]
  },
  {
   "cell_type": "code",
   "execution_count": 9,
   "metadata": {},
   "outputs": [
    {
     "data": {
      "text/plain": [
       "['Nenhum',\n",
       " 'Lacração',\n",
       " 'Apreensão',\n",
       " 'Interrupção',\n",
       " 'Não Cadastrado',\n",
       " 'Notificado',\n",
       " 'A Notificar',\n",
       " 'Liberação/Desinterrupção',\n",
       " 'Orientação ao Usuário',\n",
       " 'Comunicado',\n",
       " 'Deslacrado',\n",
       " 'Vistoriado',\n",
       " 'Emissão Termo Violação de Lacre',\n",
       " 'Apoio a busca e apreensão',\n",
       " 'Investigação/Pesquisa',\n",
       " 'Não Lacrado - Impedimento',\n",
       " 'Não Lacrado - Amparo Judicial',\n",
       " 'Não Lacrado - Responsável Ausente',\n",
       " 'Não Lacrado - Local Fechado',\n",
       " 'Constatação Violação Lacre/Relacrado',\n",
       " 'Constatação Violação Lacre/Impedimento',\n",
       " 'Notícia Crime',\n",
       " 'Monitorado alterado',\n",
       " 'Constatação Encerramento - Informe',\n",
       " 'Levantamento de Dados',\n",
       " 'Análise/coleta de Dados',\n",
       " 'Monitorado',\n",
       " 'Não Lacrado - Desativado',\n",
       " 'Devolução de Produto(s)',\n",
       " 'Outros']"
      ]
     },
     "execution_count": 9,
     "metadata": {},
     "output_type": "execute_result"
    }
   ],
   "source": [
    "issue.editable_fields['procedimentos'].options"
   ]
  },
  {
   "cell_type": "markdown",
   "metadata": {},
   "source": [
    "## Atualizando informações da Inspeção\n",
    "Dada a existência de campos condicionais, para obtermos todos os campos editáveis para dado tipo de inspeção, é preciso fornecer um dicionário de dados para que os campos sejam atualizados de acordo com os valores fornecidos para os campos condicionais."
   ]
  },
  {
   "cell_type": "code",
   "execution_count": 10,
   "metadata": {},
   "outputs": [],
   "source": [
    "dados = {\n",
    "    \"tipo_de_inspecao\": \"Certificação\",\n",
    "    \"precisa_reservar_instrumentos\": \"0\",\n",
    "    \"utilizou_algum_instrumento\": \"0\",\n",
    "    \"procedimentos\": \"Lacração\",\n",
    "}\n"
   ]
  },
  {
   "cell_type": "markdown",
   "metadata": {},
   "source": [
    "A atualização dos campos é feita passando o dicionário para o método `update_fields`."
   ]
  },
  {
   "cell_type": "code",
   "execution_count": 11,
   "metadata": {},
   "outputs": [],
   "source": [
    "issue.update_fields(dados)"
   ]
  },
  {
   "cell_type": "markdown",
   "metadata": {},
   "source": [
    "Depois de atualizado os campos com o método acima, checamos novamente o atributo `editable_fields`"
   ]
  },
  {
   "cell_type": "code",
   "execution_count": 12,
   "metadata": {},
   "outputs": [
    {
     "data": {
      "text/plain": [
       "{'status': (value: Relatando),\n",
       " 'description': (value: [PMEC 2024 Etapa 2] Monitorar canais e faixas de frequências relacionados às aplicações críticas (como, por exemplo, radionavegação e radiocomunicação aeronáutica e canais de emergência) na forma a ser estabelecida no Plano de Ação de Fiscalização.\n",
       " ) | <mandatory>,\n",
       " 'start_date': (value: 2024-03-01) | <mandatory>,\n",
       " 'due_date': (value: 2024-11-30) | <mandatory>,\n",
       " 'tipo_de_inspecao': (value: Certificação) | <mandatory>, <options>, ⚠️conditional,\n",
       " 'fiscal_responsavel': (value: ) | <mandatory>, <options>,\n",
       " 'fiscais': (value: ['']) | <mandatory>, <multiple>, <options>,\n",
       " 'ufmunicipio': (value: ['RS/Forquetinha', 'CE/Boa Viagem', 'SE/Umbaúba', 'MS/Nioaque', 'RS/Santa Vitória do Palmar']) | <mandatory>, <multiple>, <options>,\n",
       " 'procedimentos': (value: ['Lacração', 'Apreensão']) | <mandatory>, <multiple>, <options>, ⚠️conditional,\n",
       " 'horas_de_preparacao': (value: 1) | <mandatory>,\n",
       " 'horas_de_deslocamento': (value: 3) | <mandatory>,\n",
       " 'horas_de_execucao': (value: 9) | <mandatory>,\n",
       " 'horas_de_conclusao': (value: 1) | <mandatory>,\n",
       " 'no_sav': (value: ),\n",
       " 'no_pcdp': (value: ),\n",
       " 'endereco_da_inspecao': (value: Rua Machado de Assis, 27 - Morro Grande, Rio de Janeiro - RJ) | <mandatory>,\n",
       " 'identificada_a_origem': (value: 0) | <mandatory>, <options>, ⚠️conditional,\n",
       " 'no_do_lacre': (value: 50) | <mandatory>,\n",
       " 'coordenacao_responsavel': (value: FI3),\n",
       " 'agrupamento': (value: ),\n",
       " 'dadospacp': (value: None),\n",
       " 'area_do_pacp': (value: ), <options>,\n",
       " 'precisa_reservar_instrumentos': (value: 0) | <mandatory>, <options>, ⚠️conditional,\n",
       " 'total_de_horas': (value: 14.0),\n",
       " 'cnpjcpf_da_entidade': (value: 27865757000102),\n",
       " 'documento_instaurador_do_pado': (value: ),\n",
       " 'entidade_com_cadastro_stel': (value: Não) | <mandatory>, <options>,\n",
       " 'houve_obice': (value: 0) | <mandatory>, <options>,\n",
       " 'irregularidade': (value: []), <multiple>, <options>,\n",
       " 'latitude_coordenadas': (value: ) | <mandatory>,\n",
       " 'longitude_coordenadas': (value: ) | <mandatory>,\n",
       " 'observacao_tecnica_amostral': (value: Simulação com o HTZ) | <mandatory>,\n",
       " 'qnt_produt_lacradosapreend': (value: 0) | <mandatory>,\n",
       " 'situacao_constatada': (value: Irregular) | <mandatory>, <options>,\n",
       " 'utilizou_tecnicas_amostrais': (value: Não usou técnicas amostrais) | <mandatory>, <options>,\n",
       " 'motivo_de_lai': (value: Clandestinidade) | <mandatory>, <multiple>, <options>,\n",
       " 'no_sei_do_aviso_lai':  | <mandatory>,\n",
       " 'lai_vinculadas': ,\n",
       " 'no_sei_do_plaiguarda': (),\n",
       " 'gerar_plai': GerarPlai(id=426, name='Gerar PLAI', mandatory=False)}"
      ]
     },
     "execution_count": 12,
     "metadata": {},
     "output_type": "execute_result"
    }
   ],
   "source": [
    "issue.editable_fields"
   ]
  },
  {
   "cell_type": "markdown",
   "metadata": {},
   "source": [
    "Caso o conjunto de dados já seja conhecido para dado tipo de inspeção, basta passar o dicionário diretamente para o método `update`. Internamente os métodos mostrados anteriormente de atualização dos campos são chamados."
   ]
  },
  {
   "cell_type": "markdown",
   "metadata": {},
   "source": [
    "## Exemplo completo\n",
    "O dicionário a seguir contém valores misturados de diversos tipos de inspeção distintos, além de valores aleatorizados. A API simplesmente filtra os valores que se aplicam para o tipo de inspeção solicitada e o valor do dado fornecido para os campos condicionais. As demais chaves que não se aplicam são ignoradas."
   ]
  },
  {
   "cell_type": "code",
   "execution_count": 13,
   "metadata": {},
   "outputs": [],
   "source": [
    "# | code-fold: true\n",
    "dados = {\n",
    "    \"endereco_da_inspecao\": \"Rua Machado de Assis, 27 - Morro Grande, Rio de Janeiro - RJ\",\n",
    "    \"campo_eletrico__pico_vm\": randint(50, 100),\n",
    "    \"campo_eletrico_rms_vm\": randint(20, 100),\n",
    "    \"coordenacao_responsavel\": \"FI3\",\n",
    "    \"cnpjcpf_da_entidade\": \"27865757000102\",\n",
    "    \"entidade_com_cadastro_stel\": \"Não\",\n",
    "    \"entidade_outorgada\": randint(0, 1),\n",
    "    \"esta_em_operacao\": randint(0, 1),\n",
    "    \"numero_da_estacao\": \"1493671\",\n",
    "    \"fiscais\": [\"Eric Magalhães Delgado\"],\n",
    "    \"fiscal_responsavel\": \"Ronaldo da Silva Alves Batista\",\n",
    "    \"foi_constatada_interferencia\": randint(0, 1),\n",
    "    \"frequencia_inicial\": randint(70, 110),\n",
    "    \"frequencia_final\": randint(110, 117),\n",
    "    \"gerar_relatorio\": \"0\",\n",
    "    \"html_path\": r\"C:\\Users\\rsilva\\code\\fiscaliza\\tests\\Report_2024.02.18_T11.30.55_123456.html\",\n",
    "    \"uploads\": [\n",
    "        {\n",
    "            \"path\": r\"C:\\Users\\rsilva\\code\\fiscaliza\\tests\\Report_2024.02.18_T11.30.55_123456.json\",\n",
    "            \"filename\": \"Info.json\",\n",
    "        }\n",
    "    ],\n",
    "    \"identificada_a_origem\": str(randint(0, 1)),\n",
    "    \"unidade_da_frequencia_final\": \"MHz\",\n",
    "    \"unidade_da_frequencia_inicial\": \"MHz\",\n",
    "    \"horas_de_conclusao\": randint(1, 8),\n",
    "    \"horas_de_deslocamento\": randint(1, 8),\n",
    "    \"horas_de_execucao\": randint(8, 40),\n",
    "    \"horas_de_preparacao\": randint(1, 8),\n",
    "    \"houve_obice\": random.randint(0, 1),\n",
    "    \"houve_interferencia\": \"Sim\",\n",
    "    \"latitude_coordenadas\": -randint(0, 33),\n",
    "    \"longitude_coordenadas\": -randint(34, 73),\n",
    "    \"latitude_da_estacao\": -randint(0, 33),\n",
    "    \"longitude_da_estacao\": -randint(34, 73),\n",
    "    \"nome_da_entidade\": \"Globo S/A\",\n",
    "    \"numero_do_pai\": \"123456\",\n",
    "    \"observacao_tecnica_amostral\": \"Simulação com o HTZ\",\n",
    "    \"pai_instaurado_pela_anatel\": \"Sim\",\n",
    "    \"precisa_reservar_instrumentos\": \"0\",  #\n",
    "    \"procedimentos\": [\"Lacração\", \"Apreensão\"],  #\n",
    "    \"qnt_produt_lacradosapreend\": \"0\",\n",
    "    \"reserva_de_instrumentos\": \"0\",\n",
    "    \"no_do_lacre\": \"50\",\n",
    "    \"motivo_de_lai\": \"Clandestinidade\",\n",
    "    \"no_sei_do_aviso_lai\": \"0206683\",\n",
    "    \"sanada_ou_mitigada\": random.choice([\"0\", \"1\"]),\n",
    "    \"servicos_da_inspecao\": random.choices(list(SERVICOS.values()), k=5),\n",
    "    \"situacao_constatada\": \"Irregular\",\n",
    "    \"situacao_de_risco_a_vida\": \"Sim\",\n",
    "    \"tipo_de_inspecao\": \"Certificação\",  #\n",
    "    \"ufmunicipio\": random.choices(MUNICIPIOS, k=5),\n",
    "    \"uso_de_produto_homologado\": random.choice([\"0\", \"1\"]),\n",
    "    \"utilizou_algum_instrumento\": \"0\",\n",
    "    \"utilizou_apoio_policial\": \"Polícia Militar\",\n",
    "    \"utilizou_tecnicas_amostrais\": \"Não usou técnicas amostrais\",\n",
    "    \"description\": \"[PMEC 2024 Etapa 2] Monitorar canais e faixas de frequências relacionados às aplicações críticas (como, por exemplo, radionavegação e radiocomunicação aeronáutica e canais de emergência) na forma a ser estabelecida no Plano de Ação de Fiscalização.\\r\\n\",\n",
    "    \"start_date\": \"2024-03-01\",\n",
    "    \"due_date\": \"2024-11-30\",\n",
    "}"
   ]
  },
  {
   "cell_type": "code",
   "execution_count": 14,
   "metadata": {},
   "outputs": [
    {
     "name": "stdout",
     "output_type": "stream",
     "text": [
      "Atualizado para o status Relatando\n"
     ]
    }
   ],
   "source": [
    "issue.update(dados)"
   ]
  },
  {
   "cell_type": "markdown",
   "metadata": {},
   "source": [
    "## Gerar Relatório de Atividades\n",
    "Para as inspeções de `Certificação` e `Uso do Espectro - Monitoração` é possível gerar o relatório de atividades no SEI por meio do Fiscaliza, para tal basta fornecer o valor: \n",
    "```\n",
    "dados['gerar_relatório'] = '1'\n",
    "```\n"
   ]
  },
  {
   "cell_type": "code",
   "execution_count": 15,
   "metadata": {},
   "outputs": [
    {
     "name": "stdout",
     "output_type": "stream",
     "text": [
      "Atualizado para o status Relatando\n"
     ]
    }
   ],
   "source": [
    "dados['gerar_relatorio'] = '1'\n",
    "issue.update(dados)"
   ]
  },
  {
   "cell_type": "code",
   "execution_count": 16,
   "metadata": {},
   "outputs": [
    {
     "data": {
      "text/plain": [
       "{'ACAO': {'type': 'acao_de_inspecao',\n",
       "  'status': 'Em andamento',\n",
       "  'name': 'ACAO_GR08_2024_0014',\n",
       "  'description': '[PMEC 2024 Etapa 2] Monitorar canais e faixas de frequências relacionados às aplicações críticas (como, por exemplo, radionavegação e radiocomunicação aeronáutica e canais de emergência) na forma a ser estabelecida no Plano de Ação de Fiscalização.\\r\\n'},\n",
       " 'ALLOWED_STATUSES': 'None',\n",
       " 'ANEXOS': ['https://sistemasnethm/fiscaliza/attachments/download/9165/Info.json',\n",
       "  'https://sistemasnethm/fiscaliza/attachments/download/9167/Info.json',\n",
       "  'https://sistemasnethm/fiscaliza/attachments/download/9171/Info.json'],\n",
       " 'ANO_DE_EXECUCAO': '2024',\n",
       " 'APP_FISCALIZA': '0',\n",
       " 'ASSIGNED_TO': 'Ronaldo da Silva Alves Batista',\n",
       " 'ATUALIZACAO': 'Atualizado por Ronaldo da Silva Alves Batista em 02/07/2024 às 04:19:26',\n",
       " 'AUTHOR': 'Eric Magalhães Delgado',\n",
       " 'CHANGESETS': 'None',\n",
       " 'CHILDREN': 'None',\n",
       " 'CLASSE_DA_INSPECAO': 'Técnica',\n",
       " 'CLOSED_ON': 'None',\n",
       " 'COORDENADAS_GEOGRAFICAS': \"{'latitude': '-30', 'longitude': '-63'}\",\n",
       " 'CREATED_ON': '2024-04-18T12:37:47Z',\n",
       " 'DATA_DE_INICIO_EFETIVO': '2024-05-24',\n",
       " 'DONE_RATIO': '0',\n",
       " 'ESTIMATED_HOURS': 'None',\n",
       " 'ID': '124175',\n",
       " 'IS_PRIVATE': 'False',\n",
       " 'MEMBROS': ['Gilmar Ferreira do Nascimento',\n",
       "  'Luis Fernando Camelier de Queiroz',\n",
       "  'Michel Kulhavy Cerqueira',\n",
       "  'Iulo de Araújo Lima Lobo',\n",
       "  'Carlos Fernando Muniz Santos',\n",
       "  'Isabel Cristina Cruz Soares e Souza',\n",
       "  'Alessandro Vasconcelos Fernandes',\n",
       "  'Anecy Oliveira de Freitas',\n",
       "  'Wilton Machado de Oliveira',\n",
       "  'Ilva Perla Monteiro Ferreira',\n",
       "  'Lin Yu Wan',\n",
       "  'Alexnaldo Cerqueira da Silva',\n",
       "  'Jorgean Ferreira Leal',\n",
       "  'José Mauricio Leite Araújo',\n",
       "  'Arildo Oliva Franca Filho',\n",
       "  'Leonardo Lago Araújo',\n",
       "  'Brasilio Rios Leite',\n",
       "  'Fiscal UD',\n",
       "  'José Ivan Gomes',\n",
       "  'Jaqueline Cesario da Silva',\n",
       "  'Eric Magalhães Delgado',\n",
       "  'Ronaldo da Silva Alves Batista'],\n",
       " 'NO_SEI_DO_AVISO_LAI': \"{'numero': '0206683', 'link_acesso': 'https://seihm.anatel.gov.br/sei/controlador.php?acao=procedimento_trabalhar&id_procedimento=1982134&id_documento=1982751'}\",\n",
       " 'NO_SEI_PROCESSO_FISCALIZACAO': \"{'numero': '53554.000005/2024-18', 'link_acesso': 'https://seihm.anatel.gov.br/sei/controlador.php?acao=procedimento_trabalhar&id_procedimento=1982134'}\",\n",
       " 'NO_SEI_RELATORIO_DE_ATIVIDADES': \"{'numero': '0207150', 'link_acesso': 'https://seihm.anatel.gov.br/sei/controlador.php?acao=procedimento_trabalhar&id_procedimento=1982134&id_documento=1983327'}\",\n",
       " 'PRIORITY': 'Normal',\n",
       " 'PROJECT': 'GR08',\n",
       " 'SPENT_HOURS': '0.0',\n",
       " 'SUBJECT': 'INSP_GR08_2024_0140',\n",
       " 'SUBTEMA': 'Radiomonitoração Terrestre',\n",
       " 'TEMA': 'Uso do Espectro',\n",
       " 'TIME_ENTRIES': 'None',\n",
       " 'TOTAL_ESTIMATED_HOURS': 'None',\n",
       " 'TOTAL_SPENT_HOURS': '0.0',\n",
       " 'TRACKER': 'Atividade de Inspeção',\n",
       " 'UPDATED_ON': '2024-07-02T07:19:26Z',\n",
       " 'WATCHERS': 'None',\n",
       " 'agrupamento': '',\n",
       " 'area_do_pacp': '',\n",
       " 'cnpjcpf_da_entidade': '27865757000102',\n",
       " 'coordenacao_responsavel': 'FI3',\n",
       " 'dadospacp': 'None',\n",
       " 'description': '[PMEC 2024 Etapa 2] Monitorar canais e faixas de frequências relacionados às aplicações críticas (como, por exemplo, radionavegação e radiocomunicação aeronáutica e canais de emergência) na forma a ser estabelecida no Plano de Ação de Fiscalização.\\r\\n',\n",
       " 'documento_instaurador_do_pado': '',\n",
       " 'due_date': '2024-11-30',\n",
       " 'endereco_da_inspecao': 'Rua Machado de Assis, 27 - Morro Grande, Rio de Janeiro - RJ',\n",
       " 'entidade_com_cadastro_stel': 'Não',\n",
       " 'fiscais': [''],\n",
       " 'fiscal_responsavel': '',\n",
       " 'horas_de_conclusao': '2',\n",
       " 'horas_de_deslocamento': '5',\n",
       " 'horas_de_execucao': '13',\n",
       " 'horas_de_preparacao': '5',\n",
       " 'houve_obice': '1',\n",
       " 'identificada_a_origem': '1',\n",
       " 'irregularidade': [],\n",
       " 'latitude_coordenadas': '',\n",
       " 'longitude_coordenadas': '',\n",
       " 'motivo_de_lai': 'Clandestinidade',\n",
       " 'no_do_lacre': '50',\n",
       " 'no_pcdp': '',\n",
       " 'no_sav': '',\n",
       " 'no_sei_do_plaiguarda': '',\n",
       " 'nome_da_entidade': 'Globo S/A',\n",
       " 'observacao_tecnica_amostral': 'Simulação com o HTZ',\n",
       " 'precisa_reservar_instrumentos': '0',\n",
       " 'procedimentos': ['Lacração', 'Apreensão'],\n",
       " 'qnt_produt_lacradosapreend': '0',\n",
       " 'sanada_ou_mitigada': '0',\n",
       " 'servicos_da_inspecao': '302 - RESTRITO - RADIOAMADOR',\n",
       " 'situacao_constatada': 'Irregular',\n",
       " 'start_date': '2024-03-01',\n",
       " 'status': 'Relatando',\n",
       " 'tipo_de_inspecao': 'Certificação',\n",
       " 'total_de_horas': '25.0',\n",
       " 'ufmunicipio': ['RS/Tramandaí',\n",
       "  'SE/Ribeirópolis',\n",
       "  'MG/Santos Dumont',\n",
       "  'MA/Santa Helena',\n",
       "  'GO/Doverlândia'],\n",
       " 'utilizou_algum_instrumento': '0',\n",
       " 'utilizou_tecnicas_amostrais': 'Não usou técnicas amostrais'}"
      ]
     },
     "execution_count": 16,
     "metadata": {},
     "output_type": "execute_result"
    }
   ],
   "source": [
    "issue.attrs"
   ]
  },
  {
   "cell_type": "markdown",
   "metadata": {},
   "source": [
    "> Para substituir o relatório de atividades, basta refazer a chamada fornecendo o valor `1` para a chave `gerar_relatorio`."
   ]
  },
  {
   "cell_type": "code",
   "execution_count": 17,
   "metadata": {},
   "outputs": [
    {
     "name": "stdout",
     "output_type": "stream",
     "text": [
      "Atualizado para o status Relatando\n"
     ]
    }
   ],
   "source": [
    "dados[\"gerar_relatorio\"] = \"1\"\n",
    "issue.update(dados)"
   ]
  },
  {
   "cell_type": "code",
   "execution_count": 18,
   "metadata": {},
   "outputs": [
    {
     "data": {
      "text/plain": [
       "{'ACAO': {'type': 'acao_de_inspecao',\n",
       "  'status': 'Em andamento',\n",
       "  'name': 'ACAO_GR08_2024_0014',\n",
       "  'description': '[PMEC 2024 Etapa 2] Monitorar canais e faixas de frequências relacionados às aplicações críticas (como, por exemplo, radionavegação e radiocomunicação aeronáutica e canais de emergência) na forma a ser estabelecida no Plano de Ação de Fiscalização.\\r\\n'},\n",
       " 'ALLOWED_STATUSES': 'None',\n",
       " 'ANEXOS': ['https://sistemasnethm/fiscaliza/attachments/download/9165/Info.json',\n",
       "  'https://sistemasnethm/fiscaliza/attachments/download/9167/Info.json',\n",
       "  'https://sistemasnethm/fiscaliza/attachments/download/9171/Info.json'],\n",
       " 'ANO_DE_EXECUCAO': '2024',\n",
       " 'APP_FISCALIZA': '0',\n",
       " 'ASSIGNED_TO': 'Ronaldo da Silva Alves Batista',\n",
       " 'ATUALIZACAO': 'Atualizado por Ronaldo da Silva Alves Batista em 02/07/2024 às 04:19:51',\n",
       " 'AUTHOR': 'Eric Magalhães Delgado',\n",
       " 'CHANGESETS': 'None',\n",
       " 'CHILDREN': 'None',\n",
       " 'CLASSE_DA_INSPECAO': 'Técnica',\n",
       " 'CLOSED_ON': 'None',\n",
       " 'COORDENADAS_GEOGRAFICAS': \"{'latitude': '-30', 'longitude': '-63'}\",\n",
       " 'CREATED_ON': '2024-04-18T12:37:47Z',\n",
       " 'DATA_DE_INICIO_EFETIVO': '2024-05-24',\n",
       " 'DONE_RATIO': '0',\n",
       " 'ESTIMATED_HOURS': 'None',\n",
       " 'ID': '124175',\n",
       " 'IS_PRIVATE': 'False',\n",
       " 'MEMBROS': ['Gilmar Ferreira do Nascimento',\n",
       "  'Luis Fernando Camelier de Queiroz',\n",
       "  'Michel Kulhavy Cerqueira',\n",
       "  'Iulo de Araújo Lima Lobo',\n",
       "  'Carlos Fernando Muniz Santos',\n",
       "  'Isabel Cristina Cruz Soares e Souza',\n",
       "  'Alessandro Vasconcelos Fernandes',\n",
       "  'Anecy Oliveira de Freitas',\n",
       "  'Wilton Machado de Oliveira',\n",
       "  'Ilva Perla Monteiro Ferreira',\n",
       "  'Lin Yu Wan',\n",
       "  'Alexnaldo Cerqueira da Silva',\n",
       "  'Jorgean Ferreira Leal',\n",
       "  'José Mauricio Leite Araújo',\n",
       "  'Arildo Oliva Franca Filho',\n",
       "  'Leonardo Lago Araújo',\n",
       "  'Brasilio Rios Leite',\n",
       "  'Fiscal UD',\n",
       "  'José Ivan Gomes',\n",
       "  'Jaqueline Cesario da Silva',\n",
       "  'Eric Magalhães Delgado',\n",
       "  'Ronaldo da Silva Alves Batista'],\n",
       " 'NO_SEI_DO_AVISO_LAI': \"{'numero': '0206683', 'link_acesso': 'https://seihm.anatel.gov.br/sei/controlador.php?acao=procedimento_trabalhar&id_procedimento=1982134&id_documento=1982751'}\",\n",
       " 'NO_SEI_PROCESSO_FISCALIZACAO': \"{'numero': '53554.000005/2024-18', 'link_acesso': 'https://seihm.anatel.gov.br/sei/controlador.php?acao=procedimento_trabalhar&id_procedimento=1982134'}\",\n",
       " 'NO_SEI_RELATORIO_DE_ATIVIDADES': \"{'numero': '0207151', 'link_acesso': 'https://seihm.anatel.gov.br/sei/controlador.php?acao=procedimento_trabalhar&id_procedimento=1982134&id_documento=1983328'}\",\n",
       " 'PRIORITY': 'Normal',\n",
       " 'PROJECT': 'GR08',\n",
       " 'SPENT_HOURS': '0.0',\n",
       " 'SUBJECT': 'INSP_GR08_2024_0140',\n",
       " 'SUBTEMA': 'Radiomonitoração Terrestre',\n",
       " 'TEMA': 'Uso do Espectro',\n",
       " 'TIME_ENTRIES': 'None',\n",
       " 'TOTAL_ESTIMATED_HOURS': 'None',\n",
       " 'TOTAL_SPENT_HOURS': '0.0',\n",
       " 'TRACKER': 'Atividade de Inspeção',\n",
       " 'UPDATED_ON': '2024-07-02T07:19:51Z',\n",
       " 'WATCHERS': 'None',\n",
       " 'agrupamento': '',\n",
       " 'area_do_pacp': '',\n",
       " 'cnpjcpf_da_entidade': '27865757000102',\n",
       " 'coordenacao_responsavel': 'FI3',\n",
       " 'dadospacp': 'None',\n",
       " 'description': '[PMEC 2024 Etapa 2] Monitorar canais e faixas de frequências relacionados às aplicações críticas (como, por exemplo, radionavegação e radiocomunicação aeronáutica e canais de emergência) na forma a ser estabelecida no Plano de Ação de Fiscalização.\\r\\n',\n",
       " 'documento_instaurador_do_pado': '',\n",
       " 'due_date': '2024-11-30',\n",
       " 'endereco_da_inspecao': 'Rua Machado de Assis, 27 - Morro Grande, Rio de Janeiro - RJ',\n",
       " 'entidade_com_cadastro_stel': 'Não',\n",
       " 'fiscais': [''],\n",
       " 'fiscal_responsavel': '',\n",
       " 'horas_de_conclusao': '2',\n",
       " 'horas_de_deslocamento': '5',\n",
       " 'horas_de_execucao': '13',\n",
       " 'horas_de_preparacao': '5',\n",
       " 'houve_obice': '1',\n",
       " 'identificada_a_origem': '1',\n",
       " 'irregularidade': [],\n",
       " 'latitude_coordenadas': '',\n",
       " 'longitude_coordenadas': '',\n",
       " 'motivo_de_lai': 'Clandestinidade',\n",
       " 'no_do_lacre': '50',\n",
       " 'no_pcdp': '',\n",
       " 'no_sav': '',\n",
       " 'no_sei_do_plaiguarda': '',\n",
       " 'nome_da_entidade': 'Globo S/A',\n",
       " 'observacao_tecnica_amostral': 'Simulação com o HTZ',\n",
       " 'precisa_reservar_instrumentos': '0',\n",
       " 'procedimentos': ['Lacração', 'Apreensão'],\n",
       " 'qnt_produt_lacradosapreend': '0',\n",
       " 'sanada_ou_mitigada': '0',\n",
       " 'servicos_da_inspecao': '302 - RESTRITO - RADIOAMADOR',\n",
       " 'situacao_constatada': 'Irregular',\n",
       " 'start_date': '2024-03-01',\n",
       " 'status': 'Relatando',\n",
       " 'tipo_de_inspecao': 'Certificação',\n",
       " 'total_de_horas': '25.0',\n",
       " 'ufmunicipio': ['RS/Tramandaí',\n",
       "  'SE/Ribeirópolis',\n",
       "  'MG/Santos Dumont',\n",
       "  'MA/Santa Helena',\n",
       "  'GO/Doverlândia'],\n",
       " 'utilizou_algum_instrumento': '0',\n",
       " 'utilizou_tecnicas_amostrais': 'Não usou técnicas amostrais'}"
      ]
     },
     "execution_count": 18,
     "metadata": {},
     "output_type": "execute_result"
    }
   ],
   "source": [
    "issue.attrs"
   ]
  },
  {
   "cell_type": "markdown",
   "metadata": {},
   "source": [
    "> Caso o intuito seja somente editar o campo `Relatório de Atividades`, basta fornecer o valor para a chave `relatorio_de_atividades` e não esquecer de fornecer o valor `0` para a chave `gerar_relatório` ou simplesmente excluí-la.  "
   ]
  },
  {
   "cell_type": "code",
   "execution_count": 19,
   "metadata": {},
   "outputs": [
    {
     "name": "stdout",
     "output_type": "stream",
     "text": [
      "Atualizado para o status Relatando\n"
     ]
    }
   ],
   "source": [
    "dados['relatorio_de_atividades'] = '0206885'\n",
    "dados['gerar_relatorio'] = '0'\n",
    "issue.update(dados)"
   ]
  }
 ],
 "metadata": {
  "kernelspec": {
   "display_name": "python3",
   "language": "python",
   "name": "python3"
  },
  "language_info": {
   "codemirror_mode": {
    "name": "ipython",
    "version": 3
   },
   "file_extension": ".py",
   "mimetype": "text/x-python",
   "name": "python",
   "nbconvert_exporter": "python",
   "pygments_lexer": "ipython3",
   "version": "3.11.9"
  }
 },
 "nbformat": 4,
 "nbformat_minor": 2
}
